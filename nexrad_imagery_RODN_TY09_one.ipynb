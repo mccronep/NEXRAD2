{
 "cells": [
  {
   "cell_type": "markdown",
   "metadata": {},
   "source": [
    "# This notebook will display any NEXRAD site Reflectivity file from the Level II data."
   ]
  },
  {
   "cell_type": "code",
   "execution_count": 1,
   "metadata": {},
   "outputs": [
    {
     "name": "stdout",
     "output_type": "stream",
     "text": [
      "\n",
      "## You are using the Python ARM Radar Toolkit (Py-ART), an open source\n",
      "## library for working with weather radar data. Py-ART is partly\n",
      "## supported by the U.S. Department of Energy as part of the Atmospheric\n",
      "## Radiation Measurement (ARM) Climate Research Facility, an Office of\n",
      "## Science user facility.\n",
      "##\n",
      "## If you use this software to prepare a publication, please cite:\n",
      "##\n",
      "##     JJ Helmus and SM Collis, JORS 2016, doi: 10.5334/jors.119\n",
      "\n"
     ]
    },
    {
     "name": "stderr",
     "output_type": "stream",
     "text": [
      "/satdat/python/satx/lib/python3.6/site-packages/pyart/graph/cm.py:104: FutureWarning: elementwise comparison failed; returning scalar instead, but in the future will perform elementwise comparison\n",
      "  if 'red' in spec:\n",
      "/satdat/python/satx/lib/python3.6/site-packages/pyart/graph/cm_colorblind.py:32: FutureWarning: elementwise comparison failed; returning scalar instead, but in the future will perform elementwise comparison\n",
      "  if 'red' in spec:\n"
     ]
    }
   ],
   "source": [
    "import numpy as np\n",
    "import matplotlib.pyplot as plt\n",
    "import pyart\n",
    "\n",
    "import os\n",
    "import cartopy.crs as ccrs\n"
   ]
  },
  {
   "cell_type": "code",
   "execution_count": 2,
   "metadata": {},
   "outputs": [
    {
     "name": "stdout",
     "output_type": "stream",
     "text": [
      "--------------------------------------------------------------------------\n"
     ]
    }
   ],
   "source": [
    "dadash='-------------------------------------'\n",
    "print(dadash+dadash)"
   ]
  },
  {
   "cell_type": "code",
   "execution_count": 3,
   "metadata": {},
   "outputs": [],
   "source": [
    "list_of_lats = np.arange(0.0,90.0,1.0)\n",
    "#\n",
    "list_of_lons =np.arange(-179.0,181.0,1.0)"
   ]
  },
  {
   "cell_type": "code",
   "execution_count": 4,
   "metadata": {},
   "outputs": [
    {
     "data": {
      "text/plain": [
       "'RODN'"
      ]
     },
     "execution_count": 4,
     "metadata": {},
     "output_type": "execute_result"
    }
   ],
   "source": [
    "ALL_call_signs= \\\n",
    "[\"PGUA\",\"RKSG\",\"RKJK\",\"RODN\",\"KABR\",\"KENX\",\"KABX\",\"KFDR\",\"KAMA\",\"PAHG\", \\\n",
    "\"KEWX\",\"KBBX\",\"PABC\",\"KBLX\",\"KBGM\",\"KBMX\",\"KBIS\",\"KCBX\",\"KBOX\",\"KBRO\", \\\n",
    "\"KBUF\",\"KCXX\",\"KFDX\",\"KICX\",\"KCLX\",\"KRLX\",\"KCYS\",\"KLOT\",\"KILN\",\"KCLE\", \\\n",
    "\"KCAE\",\"KGWX\",\"KCRP\",\"KFWS\",\"KDVN\",\"KFTG\",\"KDMX\",\"KDTX\",\"KDDC\",\"KDOX\", \\\n",
    "\"KDLH\",\"KDYX\",\"KEYX\",\"KEVX\",\"KEPZ\",\"KLRX\",\"KBHX\",\"PAPD\",\"KFSX\",\"KHPX\", \\\n",
    "\"KGRK\",\"KPOE\",\"KEOX\",\"KSRX\",\"KIWX\",\"KAPX\",\"KGGW\",\"KGLD\",\"KMVX\",\"KGJX\", \\\n",
    "\"KGRR\",\"KTFX\",\"KGRB\",\"KGSP\",\"KRMX\",\"KUEX\",\"KHDX\",\"KCBW\",\"KHGX\",\"KHTX\", \\\n",
    "\"KIND\",\"KJKL\",\"KJAN\",\"KJAX\",\"PHKN\",\"KEAX\",\"KBYX\",\"PAKC\",\"KMRX\",\"KARX\", \\\n",
    "\"LPLA\",\"KLCH\",\"KESX\",\"KDFX\",\"KILX\",\"KLZK\",\"KVTX\",\"KLVX\",\"KLBB\",\"KMQT\", \\\n",
    "\"KMXX\",\"KMAX\",\"KMLB\",\"KNQA\",\"KAMX\",\"PAIH\",\"KMAF\",\"KMKX\",\"KMPX\",\"KMBX\", \\\n",
    "\"KMSX\",\"KMOB\",\"PHMO\",\"KVAX\",\"KMHX\",\"KOHX\",\"KLIX\",\"KOKX\",\"PAEC\",\"KAKQ\", \\\n",
    "\"KLNX\",\"KTLX\",\"KOAX\",\"KPAH\",\"KPDT\",\"KDIX\",\"KIWA\",\"KPBZ\",\"KSFX\",\"KGYX\", \\\n",
    "\"KRTX\",\"KPUX\",\"KRAX\",\"KUDX\",\"KRGX\",\"KRIW\",\"KFCX\",\"KJGX\",\"KDAX\",\"KLSX\", \\\n",
    "\"KMTX\",\"KSJT\",\"KNKX\",\"KMUX\",\"KHNX\",\"TJUA\",\"KSOX\",\"KATX\",\"KSHV\",\"KFSD\", \\\n",
    "\"PACG\",\"PHKI\",\"PHWA\",\"KOTX\",\"KSGF\",\"KCCX\",\"KLWX\",\"KTLH\",\"KTBW\",\"KTWX\", \\\n",
    "\"KEMX\",\"KINX\",\"KVNX\",\"KVBX\",\"KICT\",\"KLTX\",\"KFFC\",\"KYUX\",\"KLGX\",\"PHMO\"]\n",
    "#\n",
    "CALL_SIGN=ALL_call_signs[3]\n",
    "CALL_SIGN"
   ]
  },
  {
   "cell_type": "code",
   "execution_count": 6,
   "metadata": {},
   "outputs": [
    {
     "data": {
      "text/plain": [
       "'Kadena_Okinawa'"
      ]
     },
     "execution_count": 6,
     "metadata": {},
     "output_type": "execute_result"
    }
   ],
   "source": [
    "dict_call_signs={\"KABR\":\"Aberdeen_SD\", \"KABX\":\"Albuquerque_NM\", \"KAKQ\":\"Norfolk-VA\", \\\n",
    "\"KAMA\":\"Amarillo_TX\", \"KBBX\":\"Beale-AFB_CA\", \\\n",
    "\"KAMX\":\"Miami-FL\", \"KAPX\":\"Gaylord_MI\", \"KARX\":\"La-Crosse_WI\", \"KATX\":\"Seattle-Tacoma_WA\", \\\n",
    "\"KBGM\":\"Binghamton_NY\", \"KBHX\":\"Eureka_CA\", \"KBIS\":\"Bismarck_ND\", \"KBLX\":\"Billings_MT\", \\\n",
    "\"KBMX\":\"Birmingham_AL\", \"KCAE\":\"Columbia_SC\", \\\n",
    "\"KBOX\":\"Boston-MA\", \"KBRO\":\"Brownsville-TX\", \"KBUF\":\"Buffalo_NY\", \"KBYX\":\"Key-West-FL\", \\\n",
    "\"KCBW\":\"Houlton-Maine\", \"KCBX\":\"Boise_ID\", \"KCCX\":\"State-College_PA\", \"KCLE\":\"Cleveland_OH\", \\\n",
    "\"KCLX\":\"Charleston-SC\", \"KDDC\":\"Dodge-City_KS\", \\\n",
    "\"KCRP\":\"Corpus-Christi-TX\", \"KCXX\":\"Burlington_VT\", \"KCYS\":\"Cheyenne_WY\", \"KDAX\":\"Sacramento_CA\", \\\n",
    "\"KDFX\":\"Laughlin-AFB_TX\", \"KDIX\":\"Philadelphia-PA\", \"KDLH\":\"Duluth_MN\", \"KDMX\":\"Des-Moines_IA\", \\\n",
    "\"KDOX\":\"Dover-AFB-DE\", \"KEMX\":\"Tucson_AZ\", \\\n",
    "\"KDTX\":\"Detroit_MI\", \"KDVN\":\"Davenport_IA\", \"KDYX\":\"Dyess-AFB_TX\", \"KEAX\":\"Kansas-City_MO\", \\\n",
    "\"KENX\":\"Albany_NY\", \"KEOX\":\"Fort-Rucker_AL\", \"KEPZ\":\"El-Paso_TX\", \"KESX\":\"Las-Vegas_NV\", \\\n",
    "\"KEVX\":\"Eglin-AFB-FL\", \"KFDX\":\"Cannon-AFB_NM\", \\\n",
    "\"KEWX\":\"Austin-San-Antonio_TX\", \"KEYX\":\"Edwards-AFB_CA\", \"KFCX\":\"Roanoke_VA\", \"KFDR\":\"Altus-AFB_OK\", \\\n",
    "\"KFFC\":\"Atlanta_GA\", \"KFSD\":\"Sioux-Falls_SD\", \"KFSX\":\"Flagstaff_AZ\",\"KFTG\":\"Denver_CO\", \\\n",
    "\"KFWS\":\"Dallas-Ft.Worth_TX\", \"KGRK\":\"Fort-Hood_TX\", \\\n",
    "\"KGGW\":\"Glasgow_MT\", \"KGJX\":\"Grand-Junction_Co\", \"KGLD\":\"Goodland_KS\", \"KGRB\":\"Green-Bay_WI\", \\\n",
    "\"KGRR\":\"Grand-Rapids_MI\", \"KGSP\":\"Greer_SC\", \"KGWX\":\"Columbus-AFB,_ MS\", \"KGYX\":\"Portland-Maine\", \\\n",
    "\"KHDX\":\"Holloman-AFB_NM\", \"KHTX\":\"Huntsville_AL\",  \\\n",
    "\"KHGX\":\"Houston-Galveston-TX\", \"KHNX\":\"San-Joaquin-Valley_CA\", \"KHPX\":\"Fort-Campbell_KY\", \\\n",
    "\"KICT\":\"Wichita_KS\", \"KICX\":\"Cedar-City_UT\", \"KILN\":\"Cincinnati_OH\", \"KILX\":\"Lincoln_IL\", \\\n",
    "\"KIND\":\"Indianapolis_IN\", \"KJAX\":\"Jacksonville-FL\", \\\n",
    "\"KINX\":\"Tulsa_OK\", \"KIWA\":\"Phoenix_AZ\", \"KIWX\":\"Fort-Wayne_IN\", \"KJAN\":\"Jackson_MS\", \\\n",
    "\"KJGX\":\"Robins-AFB_GA\", \"KJKL\":\"Jackson_KY\", \"KLBB\":\"Lubbock_TX\", \"KLCH\":\"Lake-Charles-LA\", \\\n",
    "\"KLIX\":\"New-Orleans-LA\", \"KLTX\":\"Wilmington-NC\", \\\n",
    "\"KLNX\":\"North-Platte_NE\", \"KLOT\":\"Chicago_IL\", \"KLRX\":\"Elko_NV\", \"KLSX\":\"Saint-Louis_ MO\", \\\n",
    "\"KLVX\":\"Louisville_KY\", \"KLWX\":\"Sterling-VA\", \"KLZK\":\"Little-Rock_AR\", \"KMAF\":\"Midland-Odessa_TX\", \\\n",
    "\"KMAX\":\"Medford_OR\", \"KMOB\":\"Mobile-AL\", \\\n",
    "\"KMBX\":\"Minot-AFB_ND\", \"KMHX\":\"Morehead-City-NC\", \"KMKX\":\"Milwaukee_WI\", \"KMLB\":\"Melbourne-FL\", \\\n",
    "\"KMPX\":\"Minneapolis-St.Paul_MN\", \"KMQT\":\"Marquette_MI\", \"KMRX\":\"Knoxville-Tri-Cities_TN\", \\\n",
    "\"KMSX\":\"Missoula_MT\", \"KNKX\":\"San-Diego-CA\", \\\n",
    "\"KMTX\":\"Salt-Lake-City_UT\", \"KMUX\":\"San-Francisco_CA\", \"KMVX\":\"Grand-Forks_ND\", \"KMXX\":\"Maxwell-AFB_AL\", \\\n",
    "\"KNQA\":\"Memphis_TN\", \"KOAX\":\"Omaha_NE\", \"KOHX\":\"Nashville_TN\", \"KOKX\":\"New-York-City-NY\", \\\n",
    "\"KOTX\":\"Spokane_WA\", \"KPAH\":\"Paducah_KY\", \\\n",
    "\"KPBZ\":\"Pittsburgh_PA\", \"KPDT\":\"Pendleton_OR\", \"KPOE\":\"Fort-Polk_LA\", \"KPUX\":\"Pueblo_CO\", \\\n",
    "\"KRAX\":\"Raleigh-Durham_NC\", \"KRGX\":\"Reno-NV\", \"KSFX\":\"Pocatello-Idaho-Falls_ID\", \\\n",
    "\"KRIW\":\"Riverton_WY\", \"KRLX\":\"Charleston_WV\", \"KRMX\":\"Griffiss-AFB_NY\", \"KRTX\":\"Portland_OR\", \\\n",
    "\"KSGF\":\"Springfield_MO\", \"KSHV\":\"Shreveport_LA\", \"KSJT\":\"San-Angelo_TX\", \\\n",
    "\"KSOX\":\"Santa-Ana_Mountains_CA\", \"KTLX\":\"Oklahoma-City_OK\", \\\n",
    "\"KSRX\":\"Fort-Smith_AR\", \"KTBW\":\"Tampa-FL\", \"KTFX\":\"Great-Falls_MT\", \"KTLH\":\"Tallahassee-FL\", \\\n",
    "\"KTWX\":\"Topeka_KS\", \"KUDX\":\"Rapid-City_SD\", \"KUEX\":\"Hastings_NE\", \"KVAX\":\"Moody-AFB_GA\", \\\n",
    "\"KVBX\":\"Vandenberg-AFB_CA\", \"PABC\":\"Bethel_AK\", \\\n",
    "\"KVNX\":\"Vance-AFB_OK\", \"KVTX\":\"Los_Angeles_CA\", \"KYUX\":\"Yuma_AZ\", \"LPLA\":\"Lajes-AB_Azores\", \\\n",
    "\"PACG\":\"Sitka_AK\", \"PAEC\":\"Nome_AK\", \"PAHG\":\"Anchorage_AK\", \"PAIH\":\"Middleton-Island_AK\",\n",
    "\"PAKC\":\"King-Salmon_AK\", \"PHKM\":'Kamuela-Kohala-HI', \\\n",
    "\"PAPD\":\"Fairbanks_AK\", \"PGUA\":\"Anderson-AFB-Guam\", \"PHKI\":\"South-Kauai-HI\", \\\n",
    "\"PHKN\":\"Kamuela_HI\", \"PHMO\":\"Molokai-HI\", \"PHWA\":\"South-Shore-HI\", \"RKJK\":\"Kunsan-AB-Korea\", \\\n",
    "\"RKSG\":\"Camp-Humphreys-Korea\", \"RODN\":\"Kadena_Okinawa\", \"TJUA\":\"San-Juan-Puerto-Rico\", \\\n",
    "\"KLGX\":\"Langley-Hill_WA\", \"PHMO\":'Molokai HI'}\n",
    "\n",
    "PlaceName = dict_call_signs[CALL_SIGN]\n",
    "PlaceName\n"
   ]
  },
  {
   "cell_type": "code",
   "execution_count": 7,
   "metadata": {
    "scrolled": true
   },
   "outputs": [],
   "source": [
    "\n",
    "\n",
    "\n",
    "\n",
    "#CALL_SIGN=\"PHMO\"\n",
    "data_dir='/u/curr/etc/dynamic/obs_data/met/cqc/radar/'+CALL_SIGN\n",
    "\n",
    "data_dir='/satdat/curr/m4b/radar/nexrad/'+CALL_SIGN+'/'\n",
    "#/satdat/m4b/NEXRAD/RODN\n",
    "data_dir='/satdat/m4b/NEXRAD/'+CALL_SIGN+'/'\n",
    "\n",
    "\n",
    "list_of_files= []\n",
    "list_of_files=os.listdir(data_dir)"
   ]
  },
  {
   "cell_type": "code",
   "execution_count": 8,
   "metadata": {},
   "outputs": [],
   "source": [
    "# Next \n",
    "list_of_files.sort()"
   ]
  },
  {
   "cell_type": "code",
   "execution_count": 63,
   "metadata": {},
   "outputs": [],
   "source": [
    "derivedatafrom =list_of_files[30]\n",
    "#derivedatafrom =list_of_files[15]\n",
    "\n",
    "#derivedatafrom ='20161223135600.compress.raw'\n",
    "#\n",
    "#\n",
    "filename = data_dir+derivedatafrom\n",
    "#filename"
   ]
  },
  {
   "cell_type": "code",
   "execution_count": 64,
   "metadata": {},
   "outputs": [
    {
     "name": "stdout",
     "output_type": "stream",
     "text": [
      "SUCCESS: Read in Level II RADAR  datafile: /satdat/m4b/NEXRAD/RODN/20210720162611.compress.raw\n"
     ]
    }
   ],
   "source": [
    "read_radar_ok = 1\n",
    "\n",
    "#\n",
    "\n",
    "try:\n",
    "    radar = pyart.io.read(filename)\n",
    "except:\n",
    "    read_radar_ok = 0\n",
    "    print(\"WARNING: Error reading LevelII  datafile: \"+filename)\n",
    "    #=================================================================#\n",
    "\n",
    "if (read_radar_ok  == 1):\n",
    "    print(\"SUCCESS: Read in Level II RADAR  datafile: \"+filename)\n",
    "    #\n",
    "    #====================================="
   ]
  },
  {
   "cell_type": "code",
   "execution_count": 65,
   "metadata": {},
   "outputs": [],
   "source": [
    "SITE_latitude = radar.latitude['data'][0]\n",
    "\n",
    "SITE_longitude  = radar.longitude['data'][0]\n",
    "\n",
    "minlon = SITE_longitude - 4.5\n",
    "maxlon = SITE_longitude + 4.5\n",
    "#\n",
    "minlat = SITE_latitude - 3.5\n",
    "maxlat = SITE_latitude + 3.5\n"
   ]
  },
  {
   "cell_type": "code",
   "execution_count": 66,
   "metadata": {},
   "outputs": [
    {
     "name": "stdout",
     "output_type": "stream",
     "text": [
      "List of lats for grid plotting:\n",
      "[23.0, 24.0, 25.0, 26.0, 27.0, 28.0, 29.0]\n"
     ]
    }
   ],
   "source": [
    "local_lats=[]\n",
    "local_lons=[]\n",
    "\n",
    "for item in list_of_lats:\n",
    "    #\n",
    "    if (item > minlat ) & (item < maxlat):\n",
    "        local_lats.append(item)\n",
    "        #---------------------------------\n",
    "        # END OF IF LOOP\n",
    "        #---------------------------------\n",
    "    #---------------------------------\n",
    "    # END OF FOR LOOP\n",
    "    #---------------------------------\n",
    "\n",
    "print('List of lats for grid plotting:')\n",
    "print(local_lats)\n",
    "\n",
    "for item in list_of_lons:\n",
    "    #\n",
    "    if (item > minlon ) & (item < maxlon):\n",
    "        local_lons.append(item)\n",
    "        #---------------------------------\n",
    "        # END OF IF LOOP\n",
    "        #---------------------------------\n",
    "    #---------------------------------\n",
    "    # END OF FOR LOOP\n",
    "    #---------------------------------\n",
    "\n"
   ]
  },
  {
   "cell_type": "code",
   "execution_count": 67,
   "metadata": {},
   "outputs": [
    {
     "name": "stdout",
     "output_type": "stream",
     "text": [
      "List of lons for grid plotting:\n",
      "[124.0, 125.0, 126.0, 127.0, 128.0, 129.0, 130.0, 131.0, 132.0]\n"
     ]
    }
   ],
   "source": [
    "print('List of lons for grid plotting:')\n",
    "print(local_lons)\n",
    "\n",
    "CallSign =CALL_SIGN"
   ]
  },
  {
   "cell_type": "code",
   "execution_count": 47,
   "metadata": {},
   "outputs": [],
   "source": [
    "#PlaceName = 'Molokai HI'"
   ]
  },
  {
   "cell_type": "code",
   "execution_count": 68,
   "metadata": {},
   "outputs": [
    {
     "name": "stdout",
     "output_type": "stream",
     "text": [
      "The year-month-day     is: d20210720\n",
      "The hour-minute-second is: s162611\n",
      "The year-month-day -2-     is: 2021-07-20\n",
      "The hour-minute-second -2- is: 16:26:11\n",
      "Formatted Date-time String:\n",
      "2021-07-20---16:26:11 UTC\n"
     ]
    }
   ],
   "source": [
    "yymmdd='d'+derivedatafrom[0:8]\n",
    "hhmmss='s'+derivedatafrom[8:14]\n",
    "#\n",
    "print('The year-month-day     is: '+yymmdd)\n",
    "print('The hour-minute-second is: '+hhmmss)\n",
    "#\n",
    "#\n",
    "#yyyy_mm_dd = derivedatafrom[0:4]+'_'+derivedatafrom[4:2]+'_'+derivedatafrom[6:2]\n",
    "yyyy_mm_dd = derivedatafrom[0:4]+'-'+derivedatafrom[4:6]+'-'+derivedatafrom[6:8]\n",
    "#\n",
    "#hh_MM_sec  = derivedatafrom[8:2]+':'+derivedatafrom[10:2]+':'+derivedatafrom[12:2]\n",
    "hh_MM_sec  = derivedatafrom[8:10]+':'+derivedatafrom[10:12]+':'+derivedatafrom[12:14]\n",
    "#\n",
    "print('The year-month-day -2-     is: '+yyyy_mm_dd)\n",
    "#\n",
    "print('The hour-minute-second -2- is: '+hh_MM_sec)\n",
    "#\n",
    "ymdhms_formatted = yyyy_mm_dd+'---'+hh_MM_sec+' UTC'\n",
    "#\n",
    "print('Formatted Date-time String:')\n",
    "\n",
    "print(ymdhms_formatted)"
   ]
  },
  {
   "cell_type": "code",
   "execution_count": 69,
   "metadata": {},
   "outputs": [],
   "source": [
    "display = pyart.graph.RadarMapDisplay(radar)\n"
   ]
  },
  {
   "cell_type": "code",
   "execution_count": 70,
   "metadata": {},
   "outputs": [],
   "source": [
    "#GIS_shapefile = '/satdat/m4b/NEXRAD/python/shape/cb_2015_us_state_500k.shp'\n",
    "GIS_shapefile = '/satdat/m4b/NEXRAD/python/shape/TM_WORLD_BORDERS-0.3.shp'\n",
    "\n",
    "# a4au-l4:/satdat/m4b/NEXRAD/python/shape > ls -al\n",
    "#-rw-r--r--. 1 satops SATOPS 16784712 Nov 18  2016 cb_2015_us_county_500k.shp\n",
    "#-rw-r--r--. 1 satops SATOPS  4698660 Nov 19  2016 cb_2015_us_state_500k.shp\n",
    "#-rw-rw-r--. 1 satops SATOPS  6478464 Jul 30  2008 TM_WORLD_BORDERS-0.3.shp"
   ]
  },
  {
   "cell_type": "code",
   "execution_count": 71,
   "metadata": {},
   "outputs": [],
   "source": [
    "projection = ccrs.LambertConformal(central_latitude=radar.latitude['data'][0], \\\n",
    "    central_longitude=radar.longitude['data'][0])\n",
    "\n"
   ]
  },
  {
   "cell_type": "code",
   "execution_count": 73,
   "metadata": {},
   "outputs": [
    {
     "data": {
      "image/png": "[encoded data removed]",
      "text/plain": [
       "<Figure size 432x288 with 2 Axes>"
      ]
     },
     "metadata": {
      "needs_background": "light"
     },
     "output_type": "display_data"
    }
   ],
   "source": [
    "display.plot_ppi_map('reflectivity', 1, vmin=-32, vmax=64, min_lon=minlon, max_lon=maxlon, \\\n",
    "    min_lat=minlat, max_lat=maxlat, \\\n",
    "    lat_lines = local_lats, lon_lines = local_lons, \\\n",
    "    shapefile=GIS_shapefile, \\\n",
    "    projection=projection, \\\n",
    "    lat_0=radar.latitude['data'][0],lon_0=radar.longitude['data'][0])\n",
    "\n",
    "display.plot_range_ring(50., line_style='k--')\n",
    "display.plot_range_ring(100., line_style='k-',color='blue')           \n",
    "display.plot_range_ring(200., line_style='k--',color='blue')\n",
    "display.plot_range_ring(300., line_style='k-',color='red')\n",
    "display.plot_range_ring(400., line_style='k--',color='red')"
   ]
  },
  {
   "cell_type": "code",
   "execution_count": 39,
   "metadata": {},
   "outputs": [],
   "source": [
    "\n"
   ]
  },
  {
   "cell_type": "code",
   "execution_count": null,
   "metadata": {},
   "outputs": [],
   "source": []
  }
 ],
 "metadata": {
  "kernelspec": {
   "display_name": "Python 3",
   "language": "python",
   "name": "python3"
  },
  "language_info": {
   "codemirror_mode": {
    "name": "ipython",
    "version": 3
   },
   "file_extension": ".py",
   "mimetype": "text/x-python",
   "name": "python",
   "nbconvert_exporter": "python",
   "pygments_lexer": "ipython3",
   "version": "3.6.8"
  }
 },
 "nbformat": 4,
 "nbformat_minor": 4
}
