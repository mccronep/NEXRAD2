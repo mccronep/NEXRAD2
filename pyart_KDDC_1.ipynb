{
  "nbformat": 4,
  "nbformat_minor": 0,
  "metadata": {
    "colab": {
      "provenance": [],
      "authorship_tag": "ABX9TyOLmYsdi56h9Gym9MhyvAtb",
      "include_colab_link": true
    },
    "kernelspec": {
      "name": "python3",
      "display_name": "Python 3"
    },
    "language_info": {
      "name": "python"
    }
  },
  "cells": [
    {
      "cell_type": "markdown",
      "metadata": {
        "id": "view-in-github",
        "colab_type": "text"
      },
      "source": [
        "<a href=\"https://colab.research.google.com/github/mccronep/NEXRAD2/blob/main/pyart_KDDC_1.ipynb\" target=\"_parent\"><img src=\"https://colab.research.google.com/assets/colab-badge.svg\" alt=\"Open In Colab\"/></a>"
      ]
    },
    {
      "cell_type": "code",
      "execution_count": 1,
      "metadata": {
        "colab": {
          "base_uri": "https://localhost:8080/"
        },
        "id": "XSx_NEnM94zS",
        "outputId": "290e23e8-ec54-40be-bd5d-bec349ebbe1e"
      },
      "outputs": [
        {
          "output_type": "stream",
          "name": "stdout",
          "text": [
            "/bin/bash: conda: command not found\n"
          ]
        }
      ],
      "source": [
        "!conda install cartopy"
      ]
    },
    {
      "cell_type": "code",
      "source": [
        "!pip install cartopy"
      ],
      "metadata": {
        "colab": {
          "base_uri": "https://localhost:8080/"
        },
        "id": "NVjCBzxK-L8J",
        "outputId": "135fd972-d318-4f63-e962-4ff8737edc3b"
      },
      "execution_count": 2,
      "outputs": [
        {
          "output_type": "stream",
          "name": "stdout",
          "text": [
            "Looking in indexes: https://pypi.org/simple, https://us-python.pkg.dev/colab-wheels/public/simple/\n",
            "Collecting cartopy\n",
            "  Downloading Cartopy-0.20.3.tar.gz (10.8 MB)\n",
            "\u001b[K     |████████████████████████████████| 10.8 MB 27.6 MB/s \n",
            "\u001b[?25h  Installing build dependencies ... \u001b[?25l\u001b[?25hdone\n",
            "  Getting requirements to build wheel ... \u001b[?25l\u001b[?25herror\n",
            "\u001b[33mWARNING: Discarding https://files.pythonhosted.org/packages/98/a9/0e4000eabadfcff6373c0fec790863b543b919cbfec18aed60d71ba67d5d/Cartopy-0.20.3.tar.gz#sha256=0d60fa2e2fbd77c4d1f6b1f9d3b588966147f07c1b179d2d34570ac1e1b49006 (from https://pypi.org/simple/cartopy/) (requires-python:>=3.7). Command errored out with exit status 1: /usr/bin/python3 /usr/local/lib/python3.7/dist-packages/pip/_vendor/pep517/in_process/_in_process.py get_requires_for_build_wheel /tmp/tmpybn4o50n Check the logs for full command output.\u001b[0m\n",
            "  Downloading Cartopy-0.20.2.tar.gz (10.8 MB)\n",
            "\u001b[K     |████████████████████████████████| 10.8 MB 55.4 MB/s \n",
            "\u001b[?25h  Installing build dependencies ... \u001b[?25l\u001b[?25hdone\n",
            "  Getting requirements to build wheel ... \u001b[?25l\u001b[?25herror\n",
            "\u001b[33mWARNING: Discarding https://files.pythonhosted.org/packages/f6/55/1e1c737dc9436b320deead73d1c455ddbb74b8b6992081863492f6f6378a/Cartopy-0.20.2.tar.gz#sha256=4d08c198ecaa50a6a6b109d0f14c070e813defc046a83ac5d7ab494f85599e35 (from https://pypi.org/simple/cartopy/) (requires-python:>=3.7). Command errored out with exit status 1: /usr/bin/python3 /usr/local/lib/python3.7/dist-packages/pip/_vendor/pep517/in_process/_in_process.py get_requires_for_build_wheel /tmp/tmpu58i4_kv Check the logs for full command output.\u001b[0m\n",
            "  Downloading Cartopy-0.20.1.tar.gz (10.8 MB)\n",
            "\u001b[K     |████████████████████████████████| 10.8 MB 50.7 MB/s \n",
            "\u001b[?25h  Installing build dependencies ... \u001b[?25l\u001b[?25hdone\n",
            "  Getting requirements to build wheel ... \u001b[?25l\u001b[?25herror\n",
            "\u001b[33mWARNING: Discarding https://files.pythonhosted.org/packages/fc/59/aa52698e3838f4cd0e7eaa75bd86837e9e0b05041dbdaee3cda2fffced06/Cartopy-0.20.1.tar.gz#sha256=91f87b130e2574547a20cd634498df97d797abd12dcfd0235bc0cdbcec8b05e3 (from https://pypi.org/simple/cartopy/) (requires-python:>=3.7). Command errored out with exit status 1: /usr/bin/python3 /usr/local/lib/python3.7/dist-packages/pip/_vendor/pep517/in_process/_in_process.py get_requires_for_build_wheel /tmp/tmpu7wypq0o Check the logs for full command output.\u001b[0m\n",
            "  Downloading Cartopy-0.20.0.tar.gz (10.8 MB)\n",
            "\u001b[K     |████████████████████████████████| 10.8 MB 42.2 MB/s \n",
            "\u001b[?25h  Installing build dependencies ... \u001b[?25l\u001b[?25hdone\n",
            "  Getting requirements to build wheel ... \u001b[?25l\u001b[?25herror\n",
            "\u001b[33mWARNING: Discarding https://files.pythonhosted.org/packages/0f/c0/58453b036e79046d211f083880d58dcce787e7e07647ac25dc46c6555099/Cartopy-0.20.0.tar.gz#sha256=eae58aff26806e63cf115b2bce9477cedc4aa9f578c5e477b2c25cfa404f2b7a (from https://pypi.org/simple/cartopy/) (requires-python:>=3.7). Command errored out with exit status 1: /usr/bin/python3 /usr/local/lib/python3.7/dist-packages/pip/_vendor/pep517/in_process/_in_process.py get_requires_for_build_wheel /tmp/tmp6qsirzgi Check the logs for full command output.\u001b[0m\n",
            "  Downloading Cartopy-0.19.0.post1.tar.gz (12.1 MB)\n",
            "\u001b[K     |████████████████████████████████| 12.1 MB 57.5 MB/s \n",
            "\u001b[?25h  Installing build dependencies ... \u001b[?25l\u001b[?25hdone\n",
            "  Getting requirements to build wheel ... \u001b[?25l\u001b[?25hdone\n",
            "    Preparing wheel metadata ... \u001b[?25l\u001b[?25hdone\n",
            "Requirement already satisfied: shapely>=1.5.6 in /usr/local/lib/python3.7/dist-packages (from cartopy) (1.8.4)\n",
            "Collecting pyshp>=2\n",
            "  Downloading pyshp-2.3.1-py2.py3-none-any.whl (46 kB)\n",
            "\u001b[K     |████████████████████████████████| 46 kB 3.9 MB/s \n",
            "\u001b[?25hRequirement already satisfied: numpy>=1.13.3 in /usr/local/lib/python3.7/dist-packages (from cartopy) (1.21.6)\n",
            "Building wheels for collected packages: cartopy\n",
            "  Building wheel for cartopy (PEP 517) ... \u001b[?25l\u001b[?25hdone\n",
            "  Created wheel for cartopy: filename=Cartopy-0.19.0.post1-cp37-cp37m-linux_x86_64.whl size=12516319 sha256=a43df80445e88dbf833cd37f35b7888a7d7309bd6af54b66080ebbf3b3c89920\n",
            "  Stored in directory: /root/.cache/pip/wheels/98/01/f7/bd10aeb96fe4b518cde5f7c4f5e12c7202f85b7353a5017847\n",
            "Successfully built cartopy\n",
            "Installing collected packages: pyshp, cartopy\n",
            "Successfully installed cartopy-0.19.0.post1 pyshp-2.3.1\n"
          ]
        }
      ]
    },
    {
      "cell_type": "code",
      "source": [
        "!pip install arm_pyart"
      ],
      "metadata": {
        "colab": {
          "base_uri": "https://localhost:8080/"
        },
        "id": "bdqbuiTB-RkP",
        "outputId": "279d86cb-8292-416b-cdc8-6d8f66b37ab0"
      },
      "execution_count": 3,
      "outputs": [
        {
          "output_type": "stream",
          "name": "stdout",
          "text": [
            "Looking in indexes: https://pypi.org/simple, https://us-python.pkg.dev/colab-wheels/public/simple/\n",
            "Collecting arm_pyart\n",
            "  Downloading arm_pyart-1.12.7.tar.gz (43.8 MB)\n",
            "\u001b[K     |████████████████████████████████| 43.8 MB 1.8 MB/s \n",
            "\u001b[?25h  Installing build dependencies ... \u001b[?25l\u001b[?25hdone\n",
            "  Getting requirements to build wheel ... \u001b[?25l\u001b[?25hdone\n",
            "    Preparing wheel metadata ... \u001b[?25l\u001b[?25hdone\n",
            "Requirement already satisfied: scipy in /usr/local/lib/python3.7/dist-packages (from arm_pyart) (1.7.3)\n",
            "Requirement already satisfied: matplotlib in /usr/local/lib/python3.7/dist-packages (from arm_pyart) (3.2.2)\n",
            "Requirement already satisfied: fsspec in /usr/local/lib/python3.7/dist-packages (from arm_pyart) (2022.8.2)\n",
            "Collecting s3fs\n",
            "  Downloading s3fs-2022.8.2-py3-none-any.whl (27 kB)\n",
            "Requirement already satisfied: Cython in /usr/local/lib/python3.7/dist-packages (from arm_pyart) (0.29.32)\n",
            "Requirement already satisfied: cftime in /usr/local/lib/python3.7/dist-packages (from arm_pyart) (1.6.1)\n",
            "Collecting arm_pyart\n",
            "  Downloading arm_pyart-1.12.6.tar.gz (43.8 MB)\n",
            "\u001b[K     |████████████████████████████████| 43.8 MB 1.3 MB/s \n",
            "\u001b[?25h  Installing build dependencies ... \u001b[?25l\u001b[?25hdone\n",
            "  Getting requirements to build wheel ... \u001b[?25l\u001b[?25hdone\n",
            "    Preparing wheel metadata ... \u001b[?25l\u001b[?25hdone\n",
            "  Downloading arm_pyart-1.12.5.tar.gz (43.8 MB)\n",
            "\u001b[K     |████████████████████████████████| 43.8 MB 1.6 MB/s \n",
            "\u001b[?25h  Installing build dependencies ... \u001b[?25l\u001b[?25hdone\n",
            "  Getting requirements to build wheel ... \u001b[?25l\u001b[?25hdone\n",
            "    Preparing wheel metadata ... \u001b[?25l\u001b[?25hdone\n",
            "Collecting cftime<=1.5.1\n",
            "  Downloading cftime-1.5.1-cp37-cp37m-manylinux_2_17_x86_64.manylinux2014_x86_64.whl (220 kB)\n",
            "\u001b[K     |████████████████████████████████| 220 kB 50.6 MB/s \n",
            "\u001b[?25hCollecting arm_pyart\n",
            "  Downloading arm_pyart-1.12.4.tar.gz (43.8 MB)\n",
            "\u001b[K     |████████████████████████████████| 43.8 MB 1.3 MB/s \n",
            "\u001b[?25h  Installing build dependencies ... \u001b[?25l\u001b[?25hdone\n",
            "  Getting requirements to build wheel ... \u001b[?25l\u001b[?25hdone\n",
            "    Preparing wheel metadata ... \u001b[?25l\u001b[?25hdone\n",
            "  Downloading arm_pyart-1.12.3.tar.gz (43.8 MB)\n",
            "\u001b[K     |████████████████████████████████| 43.8 MB 1.3 MB/s \n",
            "\u001b[?25h  Installing build dependencies ... \u001b[?25l\u001b[?25hdone\n",
            "  Getting requirements to build wheel ... \u001b[?25l\u001b[?25hdone\n",
            "    Preparing wheel metadata ... \u001b[?25l\u001b[?25hdone\n",
            "  Downloading arm_pyart-1.12.2.tar.gz (43.8 MB)\n",
            "\u001b[K     |████████████████████████████████| 43.8 MB 1.2 MB/s \n",
            "\u001b[?25h  Installing build dependencies ... \u001b[?25l\u001b[?25hdone\n",
            "  Getting requirements to build wheel ... \u001b[?25l\u001b[?25hdone\n",
            "    Preparing wheel metadata ... \u001b[?25l\u001b[?25hdone\n",
            "Requirement already satisfied: xarray in /usr/local/lib/python3.7/dist-packages (from arm_pyart) (0.20.2)\n",
            "Requirement already satisfied: netCDF4 in /usr/local/lib/python3.7/dist-packages (from arm_pyart) (1.6.0)\n",
            "Requirement already satisfied: pooch in /usr/local/lib/python3.7/dist-packages (from arm_pyart) (1.6.0)\n",
            "Requirement already satisfied: numpy in /usr/local/lib/python3.7/dist-packages (from arm_pyart) (1.21.6)\n",
            "Requirement already satisfied: python-dateutil>=2.1 in /usr/local/lib/python3.7/dist-packages (from matplotlib->arm_pyart) (2.8.2)\n",
            "Requirement already satisfied: kiwisolver>=1.0.1 in /usr/local/lib/python3.7/dist-packages (from matplotlib->arm_pyart) (1.4.4)\n",
            "Requirement already satisfied: pyparsing!=2.0.4,!=2.1.2,!=2.1.6,>=2.0.1 in /usr/local/lib/python3.7/dist-packages (from matplotlib->arm_pyart) (3.0.9)\n",
            "Requirement already satisfied: cycler>=0.10 in /usr/local/lib/python3.7/dist-packages (from matplotlib->arm_pyart) (0.11.0)\n",
            "Requirement already satisfied: typing-extensions in /usr/local/lib/python3.7/dist-packages (from kiwisolver>=1.0.1->matplotlib->arm_pyart) (4.1.1)\n",
            "Requirement already satisfied: six>=1.5 in /usr/local/lib/python3.7/dist-packages (from python-dateutil>=2.1->matplotlib->arm_pyart) (1.15.0)\n",
            "Requirement already satisfied: packaging>=20.0 in /usr/local/lib/python3.7/dist-packages (from pooch->arm_pyart) (21.3)\n",
            "Requirement already satisfied: appdirs>=1.3.0 in /usr/local/lib/python3.7/dist-packages (from pooch->arm_pyart) (1.4.4)\n",
            "Requirement already satisfied: requests>=2.19.0 in /usr/local/lib/python3.7/dist-packages (from pooch->arm_pyart) (2.23.0)\n",
            "Requirement already satisfied: certifi>=2017.4.17 in /usr/local/lib/python3.7/dist-packages (from requests>=2.19.0->pooch->arm_pyart) (2022.6.15)\n",
            "Requirement already satisfied: chardet<4,>=3.0.2 in /usr/local/lib/python3.7/dist-packages (from requests>=2.19.0->pooch->arm_pyart) (3.0.4)\n",
            "Requirement already satisfied: urllib3!=1.25.0,!=1.25.1,<1.26,>=1.21.1 in /usr/local/lib/python3.7/dist-packages (from requests>=2.19.0->pooch->arm_pyart) (1.24.3)\n",
            "Requirement already satisfied: idna<3,>=2.5 in /usr/local/lib/python3.7/dist-packages (from requests>=2.19.0->pooch->arm_pyart) (2.10)\n",
            "Requirement already satisfied: aiohttp!=4.0.0a0,!=4.0.0a1 in /usr/local/lib/python3.7/dist-packages (from s3fs->arm_pyart) (3.8.1)\n",
            "Collecting aiobotocore~=2.4.0\n",
            "  Downloading aiobotocore-2.4.0-py3-none-any.whl (65 kB)\n",
            "\u001b[K     |████████████████████████████████| 65 kB 3.6 MB/s \n",
            "\u001b[?25hCollecting aioitertools>=0.5.1\n",
            "  Downloading aioitertools-0.10.0-py3-none-any.whl (23 kB)\n",
            "Collecting botocore<1.27.60,>=1.27.59\n",
            "  Downloading botocore-1.27.59-py3-none-any.whl (9.1 MB)\n",
            "\u001b[K     |████████████████████████████████| 9.1 MB 51.0 MB/s \n",
            "\u001b[?25hRequirement already satisfied: wrapt>=1.10.10 in /usr/local/lib/python3.7/dist-packages (from aiobotocore~=2.4.0->s3fs->arm_pyart) (1.14.1)\n",
            "Requirement already satisfied: async-timeout<5.0,>=4.0.0a3 in /usr/local/lib/python3.7/dist-packages (from aiohttp!=4.0.0a0,!=4.0.0a1->s3fs->arm_pyart) (4.0.2)\n",
            "Requirement already satisfied: attrs>=17.3.0 in /usr/local/lib/python3.7/dist-packages (from aiohttp!=4.0.0a0,!=4.0.0a1->s3fs->arm_pyart) (22.1.0)\n",
            "Requirement already satisfied: aiosignal>=1.1.2 in /usr/local/lib/python3.7/dist-packages (from aiohttp!=4.0.0a0,!=4.0.0a1->s3fs->arm_pyart) (1.2.0)\n",
            "Requirement already satisfied: multidict<7.0,>=4.5 in /usr/local/lib/python3.7/dist-packages (from aiohttp!=4.0.0a0,!=4.0.0a1->s3fs->arm_pyart) (6.0.2)\n",
            "Requirement already satisfied: frozenlist>=1.1.1 in /usr/local/lib/python3.7/dist-packages (from aiohttp!=4.0.0a0,!=4.0.0a1->s3fs->arm_pyart) (1.3.1)\n",
            "Requirement already satisfied: asynctest==0.13.0 in /usr/local/lib/python3.7/dist-packages (from aiohttp!=4.0.0a0,!=4.0.0a1->s3fs->arm_pyart) (0.13.0)\n",
            "Requirement already satisfied: charset-normalizer<3.0,>=2.0 in /usr/local/lib/python3.7/dist-packages (from aiohttp!=4.0.0a0,!=4.0.0a1->s3fs->arm_pyart) (2.1.1)\n",
            "Requirement already satisfied: yarl<2.0,>=1.0 in /usr/local/lib/python3.7/dist-packages (from aiohttp!=4.0.0a0,!=4.0.0a1->s3fs->arm_pyart) (1.8.1)\n",
            "Collecting urllib3!=1.25.0,!=1.25.1,<1.26,>=1.21.1\n",
            "  Downloading urllib3-1.25.11-py2.py3-none-any.whl (127 kB)\n",
            "\u001b[K     |████████████████████████████████| 127 kB 82.3 MB/s \n",
            "\u001b[?25hCollecting jmespath<2.0.0,>=0.7.1\n",
            "  Downloading jmespath-1.0.1-py3-none-any.whl (20 kB)\n",
            "Requirement already satisfied: pandas>=1.1 in /usr/local/lib/python3.7/dist-packages (from xarray->arm_pyart) (1.3.5)\n",
            "Requirement already satisfied: importlib-metadata in /usr/local/lib/python3.7/dist-packages (from xarray->arm_pyart) (4.12.0)\n",
            "Requirement already satisfied: pytz>=2017.3 in /usr/local/lib/python3.7/dist-packages (from pandas>=1.1->xarray->arm_pyart) (2022.2.1)\n",
            "Requirement already satisfied: zipp>=0.5 in /usr/local/lib/python3.7/dist-packages (from importlib-metadata->xarray->arm_pyart) (3.8.1)\n",
            "Building wheels for collected packages: arm-pyart\n",
            "  Building wheel for arm-pyart (PEP 517) ... \u001b[?25l\u001b[?25hdone\n",
            "  Created wheel for arm-pyart: filename=arm_pyart-1.12.2-cp37-cp37m-linux_x86_64.whl size=11671610 sha256=6f7b22a63346b9985897c13f2b7c898cc5efbffb7a6ef80bee9757480f91ff27\n",
            "  Stored in directory: /root/.cache/pip/wheels/c6/7e/fe/d62c9195bf9b1a518a95dca980d81524510805c3431e9ec73e\n",
            "Successfully built arm-pyart\n",
            "Installing collected packages: urllib3, jmespath, botocore, aioitertools, aiobotocore, s3fs, arm-pyart\n",
            "  Attempting uninstall: urllib3\n",
            "    Found existing installation: urllib3 1.24.3\n",
            "    Uninstalling urllib3-1.24.3:\n",
            "      Successfully uninstalled urllib3-1.24.3\n",
            "Successfully installed aiobotocore-2.4.0 aioitertools-0.10.0 arm-pyart-1.12.2 botocore-1.27.59 jmespath-1.0.1 s3fs-2022.8.2 urllib3-1.25.11\n"
          ]
        }
      ]
    },
    {
      "cell_type": "code",
      "source": [
        "#    lat_0=radar.latitude['data'][0],lon_0=radar.longitude['data'][0])\n",
        "#\n",
        "#NWSRef\n",
        "#NWSVel\n",
        "#NWS_SPW\n",
        "#StepSeq25 NNOO\n",
        "#SymGray12\n",
        "#Theodore16\n",
        "#Wild25\n",
        "# mynexrad_KDDC_zoom7z.py3.txt\n",
        "\n",
        "\n"
      ],
      "metadata": {
        "id": "qS48ivhY-s0i"
      },
      "execution_count": 4,
      "outputs": []
    },
    {
      "cell_type": "code",
      "source": [
        "!pip install metpy"
      ],
      "metadata": {
        "colab": {
          "base_uri": "https://localhost:8080/",
          "height": 921
        },
        "id": "r7_LSEX1FPTS",
        "outputId": "30154cb3-da3a-4373-a8da-eeca98b8ed6f"
      },
      "execution_count": 8,
      "outputs": [
        {
          "output_type": "stream",
          "name": "stdout",
          "text": [
            "Looking in indexes: https://pypi.org/simple, https://us-python.pkg.dev/colab-wheels/public/simple/\n",
            "Collecting metpy\n",
            "  Downloading MetPy-1.2.0-py3-none-any.whl (367 kB)\n",
            "\u001b[K     |████████████████████████████████| 367 kB 27.7 MB/s \n",
            "\u001b[?25hRequirement already satisfied: pandas>=0.24.0 in /usr/local/lib/python3.7/dist-packages (from metpy) (1.3.5)\n",
            "Requirement already satisfied: xarray>=0.14.1 in /usr/local/lib/python3.7/dist-packages (from metpy) (0.20.2)\n",
            "Collecting matplotlib>=3.3.0\n",
            "  Downloading matplotlib-3.5.3-cp37-cp37m-manylinux_2_5_x86_64.manylinux1_x86_64.whl (11.2 MB)\n",
            "\u001b[K     |████████████████████████████████| 11.2 MB 39.0 MB/s \n",
            "\u001b[?25hRequirement already satisfied: importlib-resources>=1.3.0 in /usr/local/lib/python3.7/dist-packages (from metpy) (5.9.0)\n",
            "Requirement already satisfied: pooch>=0.1 in /usr/local/lib/python3.7/dist-packages (from metpy) (1.6.0)\n",
            "Collecting pyproj>=2.5.0\n",
            "  Downloading pyproj-3.2.1-cp37-cp37m-manylinux2010_x86_64.whl (6.3 MB)\n",
            "\u001b[K     |████████████████████████████████| 6.3 MB 29.5 MB/s \n",
            "\u001b[?25hCollecting pint>=0.10.1\n",
            "  Downloading Pint-0.18-py2.py3-none-any.whl (209 kB)\n",
            "\u001b[K     |████████████████████████████████| 209 kB 48.4 MB/s \n",
            "\u001b[?25hRequirement already satisfied: scipy>=1.2.0 in /usr/local/lib/python3.7/dist-packages (from metpy) (1.7.3)\n",
            "Requirement already satisfied: traitlets>=4.3.0 in /usr/local/lib/python3.7/dist-packages (from metpy) (5.1.1)\n",
            "Requirement already satisfied: importlib-metadata>=1.0.0 in /usr/local/lib/python3.7/dist-packages (from metpy) (4.12.0)\n",
            "Requirement already satisfied: numpy>=1.17.0 in /usr/local/lib/python3.7/dist-packages (from metpy) (1.21.6)\n",
            "Requirement already satisfied: typing-extensions>=3.6.4 in /usr/local/lib/python3.7/dist-packages (from importlib-metadata>=1.0.0->metpy) (4.1.1)\n",
            "Requirement already satisfied: zipp>=0.5 in /usr/local/lib/python3.7/dist-packages (from importlib-metadata>=1.0.0->metpy) (3.8.1)\n",
            "Requirement already satisfied: kiwisolver>=1.0.1 in /usr/local/lib/python3.7/dist-packages (from matplotlib>=3.3.0->metpy) (1.4.4)\n",
            "Requirement already satisfied: packaging>=20.0 in /usr/local/lib/python3.7/dist-packages (from matplotlib>=3.3.0->metpy) (21.3)\n",
            "Collecting fonttools>=4.22.0\n",
            "  Downloading fonttools-4.37.2-py3-none-any.whl (959 kB)\n",
            "\u001b[K     |████████████████████████████████| 959 kB 68.5 MB/s \n",
            "\u001b[?25hRequirement already satisfied: pillow>=6.2.0 in /usr/local/lib/python3.7/dist-packages (from matplotlib>=3.3.0->metpy) (7.1.2)\n",
            "Requirement already satisfied: pyparsing>=2.2.1 in /usr/local/lib/python3.7/dist-packages (from matplotlib>=3.3.0->metpy) (3.0.9)\n",
            "Requirement already satisfied: python-dateutil>=2.7 in /usr/local/lib/python3.7/dist-packages (from matplotlib>=3.3.0->metpy) (2.8.2)\n",
            "Requirement already satisfied: cycler>=0.10 in /usr/local/lib/python3.7/dist-packages (from matplotlib>=3.3.0->metpy) (0.11.0)\n",
            "Requirement already satisfied: pytz>=2017.3 in /usr/local/lib/python3.7/dist-packages (from pandas>=0.24.0->metpy) (2022.2.1)\n",
            "Requirement already satisfied: requests>=2.19.0 in /usr/local/lib/python3.7/dist-packages (from pooch>=0.1->metpy) (2.23.0)\n",
            "Requirement already satisfied: appdirs>=1.3.0 in /usr/local/lib/python3.7/dist-packages (from pooch>=0.1->metpy) (1.4.4)\n",
            "Requirement already satisfied: certifi in /usr/local/lib/python3.7/dist-packages (from pyproj>=2.5.0->metpy) (2022.6.15)\n",
            "Requirement already satisfied: six>=1.5 in /usr/local/lib/python3.7/dist-packages (from python-dateutil>=2.7->matplotlib>=3.3.0->metpy) (1.15.0)\n",
            "Requirement already satisfied: urllib3!=1.25.0,!=1.25.1,<1.26,>=1.21.1 in /usr/local/lib/python3.7/dist-packages (from requests>=2.19.0->pooch>=0.1->metpy) (1.25.11)\n",
            "Requirement already satisfied: idna<3,>=2.5 in /usr/local/lib/python3.7/dist-packages (from requests>=2.19.0->pooch>=0.1->metpy) (2.10)\n",
            "Requirement already satisfied: chardet<4,>=3.0.2 in /usr/local/lib/python3.7/dist-packages (from requests>=2.19.0->pooch>=0.1->metpy) (3.0.4)\n",
            "Installing collected packages: fonttools, pyproj, pint, matplotlib, metpy\n",
            "  Attempting uninstall: matplotlib\n",
            "    Found existing installation: matplotlib 3.2.2\n",
            "    Uninstalling matplotlib-3.2.2:\n",
            "      Successfully uninstalled matplotlib-3.2.2\n",
            "Successfully installed fonttools-4.37.2 matplotlib-3.5.3 metpy-1.2.0 pint-0.18 pyproj-3.2.1\n"
          ]
        },
        {
          "output_type": "display_data",
          "data": {
            "application/vnd.colab-display-data+json": {
              "pip_warning": {
                "packages": [
                  "matplotlib",
                  "mpl_toolkits"
                ]
              }
            }
          },
          "metadata": {}
        }
      ]
    },
    {
      "cell_type": "code",
      "source": [
        "### Name of notebook:\n",
        "### pyart_Z_KDDC_windfarm\n",
        "###\n",
        "### Display Z Refl from Dodge City KDDC\n",
        "### Using PyART\n",
        "### Paul McCrone\n",
        "#\n",
        "\n"
      ],
      "metadata": {
        "id": "VgZjgvuEE1EY"
      },
      "execution_count": 9,
      "outputs": []
    },
    {
      "cell_type": "code",
      "source": [
        "\n",
        "try:\n",
        "    import numpy as np\n",
        "    import matplotlib.pyplot as plt\n",
        "\n",
        "    print(\"..Loading Modules 0...\")\n",
        "except:\n",
        "    print(\"Error loading Modules 0\")\n",
        "import pyart\n",
        "\n",
        "try:\n",
        "    import os\n",
        "    import cartopy.crs as ccrs\n",
        "    #\n",
        "    print(\"..Loading Modules 1...\")\n",
        "\n",
        "except:\n",
        "    print(\"Error loading Modules 1\")\n",
        "\n",
        "\n"
      ],
      "metadata": {
        "colab": {
          "base_uri": "https://localhost:8080/"
        },
        "id": "D-BqtzuQE2Wv",
        "outputId": "c7ee8dd5-e58d-40bf-bbd1-8cca1962be13"
      },
      "execution_count": 10,
      "outputs": [
        {
          "output_type": "stream",
          "name": "stdout",
          "text": [
            "..Loading Modules 0...\n",
            "..Loading Modules 1...\n"
          ]
        }
      ]
    },
    {
      "cell_type": "code",
      "source": [
        "\n",
        "try:\n",
        "    #import metpy.calc as mpcalc\n",
        "    #import metpy.constants as mpconst\n",
        "    #from metpy.calc import reduce_point_density\n",
        "    #from metpy.cbook import get_test_data\n",
        "    #from metpy.io import metar, Level3File\n",
        "    #from metpy.plots import add_metpy_logo, current_weather, sky_cover, StationPlot, add_timestamp, colortables\n",
        "\n",
        "    #from siphon.catalog import TDSCatalog\n",
        "    #from datetime import datetime\n",
        "    #import xarray as xr\n",
        "    #from metpy.units import units\n",
        "    #from siphon.radarserver import RadarServer\n",
        "    from datetime import datetime,timedelta\n",
        "\n",
        "    import cartopy\n",
        "    import cartopy.crs as ccrs\n",
        "    #import matplotlib.pyplot as plt\n",
        "    #import numpy as np\n",
        "    #from siphon.cdmr import Dataset\n",
        "\n",
        "    import cartopy.feature as cfeature\n",
        "    from metpy.plots import USCOUNTIES,ctables\n",
        "\n",
        "    import pandas as PD\n",
        "    import os as OS\n",
        "    print(\"..Loading Modules 2...\")\n",
        "except:\n",
        "    print(\"Error loading modules 2\")\n"
      ],
      "metadata": {
        "colab": {
          "base_uri": "https://localhost:8080/"
        },
        "id": "-alHC3GDFBeP",
        "outputId": "2a88c4af-9aac-4cf3-e6dc-6df85ee1b197"
      },
      "execution_count": 11,
      "outputs": [
        {
          "output_type": "stream",
          "name": "stdout",
          "text": [
            "..Loading Modules 2...\n"
          ]
        }
      ]
    },
    {
      "cell_type": "code",
      "source": [
        "\n",
        "dadash='-------------------------------------'\n",
        "print(dadash+dadash)\n",
        "list_of_lats = np.arange(0.0,90.0,1.0)\n",
        "#\n",
        "list_of_lons =np.arange(-179.0,181.0,1.0)\n",
        "\n",
        "\n",
        "\n",
        "\n",
        "#%matplotlib inline\n",
        "\n",
        "DADASHES='-----------------------------------------------------'\n",
        "dadash='-----------------------------------------------------'\n",
        "DAEQUALS='==--==--==--==--==--==--==--==--==--==--==--==--==--'\n",
        "\n",
        "\n",
        "now=datetime.utcnow()\n",
        "\n"
      ],
      "metadata": {
        "colab": {
          "base_uri": "https://localhost:8080/"
        },
        "id": "nXLywF7qFGqU",
        "outputId": "b1890140-6e02-400c-b557-aa111358e120"
      },
      "execution_count": 12,
      "outputs": [
        {
          "output_type": "stream",
          "name": "stdout",
          "text": [
            "--------------------------------------------------------------------------\n"
          ]
        }
      ]
    },
    {
      "cell_type": "code",
      "source": [
        "\n",
        "#-----#-----#-----#-----#-----#-----#-----#-----#-----#-----#-----\n",
        "#######  Begin Function Access_Current_Time\n",
        "#-----#-----#-----#-----#-----#-----#-----#-----#-----#-----#-----\n",
        "#\n",
        "def Access_Current_Time(now):\n",
        "    #-----\n",
        "    ###import datetime\n",
        "    #-----\n",
        "    now = datetime.datetime.now()\n",
        "    #-----\n",
        "    print(\"\")\n",
        "    print( \"Current date and time using str method of datetime object:\")\n",
        "    print( str(now))\n",
        "    #-----\n",
        "    print( \" \\n\")\n",
        "    print( \"Current date and time using instance attributes:\")\n",
        "    print( \"Current year: %d\" % now.year)\n",
        "    print( \"Current month: %d\" % now.month)\n",
        "    print( \"Current day: %d\" % now.day)\n",
        "    print( \"Current hour: %d\" % now.hour)\n",
        "    print( \"Current minute: %d\" % now.minute)\n",
        "    print( \"Current second: %d\" % now.second)\n",
        "    print( \"Current microsecond: %d\" % now.microsecond)\n",
        "    #-----\n",
        "    print( \" \\n\")\n",
        "    print( \"Current date and time using strftime:\")\n",
        "    #print now.strftime(\"%Y-%m-%d %H:%M\")\n",
        "    print( now.strftime(\"%Y-%m-%d...%H:%M\"))\n",
        "    #-----\n",
        "    print( \" \\n\")\n",
        "    print( \"Current date and time using isoformat:\")\n",
        "    print (now.isoformat())\n",
        "    return( now.strftime(\"%Y-%m-%d.rapidscat.ncdf.%H-%M\"))\n",
        "    #return now\n",
        "    #\n",
        "    #-----#-----#-----#-----#-----#-----#-----#-----#-----#-----#-----\n",
        "    #### END OF Access_Current_Time FUNCTION\n",
        "    #-----#-----#-----#-----#-----#-----#-----#-----#-----#-----#-----\n",
        "###---\n",
        "\n"
      ],
      "metadata": {
        "id": "I2tzrXvyFd2Q"
      },
      "execution_count": 14,
      "outputs": []
    },
    {
      "cell_type": "code",
      "source": [
        "#-----#-----#-----#-----#-----#-----#-----#-----#-----#-----#-----\n",
        "#######  Begin Function IS_This_Path_Valid()\n",
        "#-----#-----#-----#-----#-----#-----#-----#-----#-----#-----#-----\n",
        "#\n",
        "def IS_This_Path_Valid(thispath):\n",
        "    #-----\n",
        "    # If this path is Valid, then say so [print in the affirmative]\n",
        "    # return this_return_value=1\n",
        "    # Otherwise, state that the path is invalid, then return this_return_value=0\n",
        "    #.....................\n",
        "    #\n",
        "    this_return_value = 0\n",
        "    #\n",
        "    # Check thispath\n",
        "    #\n",
        "    valid_thispath=OS.path.exists(thispath)\n",
        "\n",
        "    if valid_thispath:\n",
        "        print(dadash)\n",
        "        print(\"You are requesting the validity of this path: \"+thispath)\n",
        "        print(\"This path is VALID and EXISTS\")\n",
        "        this_return_value = 1\n",
        "        print(dadash)\n",
        "        #\n",
        "    else:\n",
        "        #\n",
        "        print(\"--CAUTION--\")\n",
        "        print(\"You are requesting the validity of this path: \"+thispath)\n",
        "        print(\"-------The indicated path is INVALID! NEED TO CHECK THIS!!!!!!!! -----------------\")\n",
        "        this_return_value = 0\n",
        "        #-----------------------------------------------------------\n",
        "        # End of if block\n",
        "        #-----------------------------------------------------------\n",
        "    #.....................\n",
        "    return( this_return_value)\n",
        "    #\n",
        "#xxxxxxxxxxxxxxxxxxxxxxxxxxxxxxxxxxxxxxxxxxxxxxxxxxxxxxxxxxxxxxxxxxxxxxxxxxxxxxxxxxxxxxxxxxx\n"
      ],
      "metadata": {
        "id": "swuhT-qvFn8f"
      },
      "execution_count": 15,
      "outputs": []
    },
    {
      "cell_type": "code",
      "source": [
        "#\n",
        "#-----#-----#-----#-----#-----#-----#-----#-----#-----#-----#-----\n",
        "#######  Begin Function IS_This_File_Valid()\n",
        "#-----#-----#-----#-----#-----#-----#-----#-----#-----#-----#-----\n",
        "#\n",
        "def IS_This_File_Valid(thisfile):\n",
        "    #---------------------\n",
        "    # If this file is Valid, then say so [print in the affirmative]\n",
        "    # return this_return_value=1\n",
        "    # Otherwise, state that the file is invalid, then return this_return_value=0\n",
        "    #.....................\n",
        "    #\n",
        "    this_return_value = 0\n",
        "    #\n",
        "    # Check thisfile\n",
        "    #\n",
        "    valid_thisfile=OS.path.exists(thisfile)\n",
        "\n",
        "    if valid_thisfile:\n",
        "        print(dadash)\n",
        "        print(\"You are requesting the validity of this File: \"+thisfile)\n",
        "        print(\"This file is VALID and EXISTS\")\n",
        "        this_return_value = 1\n",
        "        print(dadash)\n",
        "        #\n",
        "    else:\n",
        "        #\n",
        "        print(\"--CAUTION--\")\n",
        "        print(\"You are requesting the validity of this file: \"+thisfile)\n",
        "        print(\"-------The indicated file is INVALID! NEED TO CHECK THIS!!!!!!!! -----------------\")\n",
        "        this_return_value = 0\n",
        "        #-----------------------------------------------------------\n",
        "        # End of if block\n",
        "        #-----------------------------------------------------------\n",
        "    #.....................\n",
        "    return( this_return_value)\n",
        "    #\n",
        "    #\n",
        "    #-----#-----#-----#-----#-----#-----#-----#-----#-----#-----#-----\n",
        "    #### END OF IS_This_File_Valid\n",
        "    #-----#-----#-----#-----#-----#-----#-----#-----#-----#-----#-----\n",
        "\n"
      ],
      "metadata": {
        "id": "zkorQoP0FwV-"
      },
      "execution_count": 16,
      "outputs": []
    },
    {
      "cell_type": "code",
      "source": [
        "meta_dir='/home/pmccrone/python/src/Radar_NEXRAD_process-main'\n",
        "\n",
        "ALL_call_signs= \\\n",
        "[\"PGUA\",\"RKSG\",\"RKJK\",\"RODN\",\"KABR\",\"KENX\",\"KABX\",\"KFDR\",\"KAMA\",\"PAHG\", \\\n",
        "\"KEWX\",\"KBBX\",\"PABC\",\"KBLX\",\"KBGM\",\"KBMX\",\"KBIS\",\"KCBX\",\"KBOX\",\"KBRO\", \\\n",
        "\"KBUF\",\"KCXX\",\"KFDX\",\"KICX\",\"KCLX\",\"KRLX\",\"KCYS\",\"KLOT\",\"KILN\",\"KCLE\", \\\n",
        "\"KCAE\",\"KGWX\",\"KCRP\",\"KFWS\",\"KDVN\",\"KFTG\",\"KDMX\",\"KDTX\",\"KDDC\",\"KDOX\", \\\n",
        "\"KDLH\",\"KDYX\",\"KEYX\",\"KEVX\",\"KEPZ\",\"KLRX\",\"KBHX\",\"PAPD\",\"KFSX\",\"KHPX\", \\\n",
        "\"KGRK\",\"KPOE\",\"KEOX\",\"KSRX\",\"KIWX\",\"KAPX\",\"KGGW\",\"KGLD\",\"KMVX\",\"KGJX\", \\\n",
        "\"KGRR\",\"KTFX\",\"KGRB\",\"KGSP\",\"KRMX\",\"KUEX\",\"KHDX\",\"KCBW\",\"KHGX\",\"KHTX\", \\\n",
        "\"KIND\",\"KJKL\",\"KJAN\",\"KJAX\",\"PHKN\",\"KEAX\",\"KBYX\",\"PAKC\",\"KMRX\",\"KARX\", \\\n",
        "\"LPLA\",\"KLCH\",\"KESX\",\"KDFX\",\"KILX\",\"KLZK\",\"KVTX\",\"KLVX\",\"KLBB\",\"KMQT\", \\\n",
        "\"KMXX\",\"KMAX\",\"KMLB\",\"KNQA\",\"KAMX\",\"PAIH\",\"KMAF\",\"KMKX\",\"KMPX\",\"KMBX\", \\\n",
        "\"KMSX\",\"KMOB\",\"PHMO\",\"KVAX\",\"KMHX\",\"KOHX\",\"KLIX\",\"KOKX\",\"PAEC\",\"KAKQ\", \\\n",
        "\"KLNX\",\"KTLX\",\"KOAX\",\"KPAH\",\"KPDT\",\"KDIX\",\"KIWA\",\"KPBZ\",\"KSFX\",\"KGYX\", \\\n",
        "\"KRTX\",\"KPUX\",\"KRAX\",\"KUDX\",\"KRGX\",\"KRIW\",\"KFCX\",\"KJGX\",\"KDAX\",\"KLSX\", \\\n",
        "\"KMTX\",\"KSJT\",\"KNKX\",\"KMUX\",\"KHNX\",\"TJUA\",\"KSOX\",\"KATX\",\"KSHV\",\"KFSD\", \\\n",
        "\"PACG\",\"PHKI\",\"PHWA\",\"KOTX\",\"KSGF\",\"KCCX\",\"KLWX\",\"KTLH\",\"KTBW\",\"KTWX\", \\\n",
        "\"KEMX\",\"KINX\",\"KVNX\",\"KVBX\",\"KICT\",\"KLTX\",\"KFFC\",\"KYUX\",\"KLGX\",\"KCRI\", \"KOUN\"]\n",
        "#\n",
        "#\n",
        "#\n",
        "#[\"PGUA\",\"1\",\"2\",\"3\",\"4\",\"5\",\"6\",\"7\",\"8\",\"PAHG\", \\\n",
        "#\"KEWX\",\"11\",\"12\",\"13\",\"14\",\"15\",\"16\",\"17\",\"18\",\"KBRO\", \\\n",
        "#\"KBUF\",\"21\",\"22\",\"23\",\"24\",\"25\",\"26\",\"27\",\"28\",\"KCLE\", \\\n",
        "#\"KCAE\",\"31\",\"32\",\"33\",\"34\",\"35\",\"36\",\"37\",\"38\",\"KDOX\", \\\n",
        "#\"KDLH\",\"41\",\"42\",\"43\",\"44\",\"45\",\"46\",\"47\",\"48\",\"KHPX\", \\\n",
        "#\"KGRK\",\"51\",\"52\",\"53\",\"54\",\"55\",\"56\",\"57\",\"58\",\"KGJX\", \\\n",
        "#\"KGRR\",\"61\",\"62\",\"63\",\"64\",\"65\",\"66\",\"67\",\"68\",\"KHTX\", \\\n",
        "#\"KIND\",\"71\",\"72\",\"73\",\"74\",\"75\",\"76\",\"77\",\"78\",\"KARX\", \\\n",
        "#\"LPLA\",\"81\",\"82\",\"83\",\"84\",\"85\",\"86\",\"87\",\"88\",\"KMQT\", \\\n",
        "#\"KMXX\",\"91\",\"92\",\"93\",\"94\",\"95\",\"96\",\"97\",\"98\",\"KMBX\", \\\n",
        "#\"KMSX\",\"101\",\"102\",\"103\",\"104\",\"105\",\"106\",\"107\",\"108\",\"KAKQ\", \\\n",
        "#\"KLNX\",\"111\",\"112\",\"113\",\"114\",\"115\",\"116\",\"117\",\"118\",\"KGYX\", \\\n",
        "#\"KRTX\",\"121\",\"122\",\"123\",\"124\",\"125\",\"126\",\"127\",\"128\",\"129\", \\\n",
        "#\"KMTX\",\"131\",\"132\",\"133\",\"134\",\"135\",\"136\",\"137\",\"138\",\"KFSD\", \\\n",
        "#\"PACG\",\"141\",\"142\",\"143\",\"144\",\"145\",\"146\",\"147\",\"148\",\"KTWX\", \\\n",
        "#\"KEMX\",\"151\",\"152\",\"153\",\"154\",\"155\",\"156\",\"157\",\"158\",\"159\",\"KOUN\"]\n",
        "#\n"
      ],
      "metadata": {
        "id": "6ki4WrOSF3Ef"
      },
      "execution_count": 17,
      "outputs": []
    },
    {
      "cell_type": "code",
      "source": [
        "# KBOX - 18\n",
        "# KTLX - 111\n",
        "# KOAX - 112\n",
        "# KMUX - 133\n",
        "# TJUA - 135\n",
        "\n",
        "My_callsign=ALL_call_signs[38] #KHPX - 49\n",
        "\n",
        "print(\"My_callsign=\"+My_callsign)\n",
        "\n",
        "CALL_SIGN=My_callsign\n",
        "#\n",
        "\n"
      ],
      "metadata": {
        "colab": {
          "base_uri": "https://localhost:8080/"
        },
        "id": "YPPRelCwF9E-",
        "outputId": "9e91e26e-d792-4485-cc9f-d5f67a5e0b8a"
      },
      "execution_count": 18,
      "outputs": [
        {
          "output_type": "stream",
          "name": "stdout",
          "text": [
            "My_callsign=KDDC\n"
          ]
        }
      ]
    },
    {
      "cell_type": "code",
      "source": [
        "dict_call_signs={\"KABR\":\"Aberdeen_SD\", \"KABX\":\"Albuquerque_NM\", \"KAKQ\":\"Norfolk-VA\", \\\n",
        "\"KAMA\":\"Amarillo_TX\", \"KBBX\":\"Beale-AFB_CA\", \\\n",
        "\"KAMX\":\"Miami-FL\", \"KAPX\":\"Gaylord_MI\", \"KARX\":\"La-Crosse_WI\", \"KATX\":\"Seattle-Tacoma_WA\", \\\n",
        "\"KBGM\":\"Binghamton_NY\", \"KBHX\":\"Eureka_CA\", \"KBIS\":\"Bismarck_ND\", \"KBLX\":\"Billings_MT\", \\\n",
        "\"KBMX\":\"Birmingham_AL\", \"KCAE\":\"Columbia_SC\", \\\n",
        "\"KBOX\":\"Boston-MA\", \"KBRO\":\"Brownsville-TX\", \"KBUF\":\"Buffalo_NY\", \"KBYX\":\"Key-West-FL\", \\\n",
        "\"KCBW\":\"Houlton-Maine\", \"KCBX\":\"Boise_ID\", \"KCCX\":\"State-College_PA\", \"KCLE\":\"Cleveland_OH\", \\\n",
        "\"KCLX\":\"Charleston-SC\", \"KDDC\":\"Dodge-City_KS\", \\\n",
        "\"KCRP\":\"Corpus-Christi-TX\", \"KCXX\":\"Burlington_VT\", \"KCYS\":\"Cheyenne_WY\", \"KDAX\":\"Sacramento_CA\", \\\n",
        "\"KDFX\":\"Laughlin-AFB_TX\", \"KDIX\":\"Philadelphia-PA\", \"KDLH\":\"Duluth_MN\", \"KDMX\":\"Des-Moines_IA\", \\\n",
        "\"KDOX\":\"Dover-AFB-DE\", \"KEMX\":\"Tucson_AZ\", \\\n",
        "\"KDTX\":\"Detroit_MI\", \"KDVN\":\"Davenport_IA\", \"KDYX\":\"Dyess-AFB_TX\", \"KEAX\":\"Kansas-City_MO\", \\\n",
        "\"KENX\":\"Albany_NY\", \"KEOX\":\"Fort-Rucker_AL\", \"KEPZ\":\"El-Paso_TX\", \"KESX\":\"Las-Vegas_NV\", \\\n",
        "\"KEVX\":\"Eglin-AFB-FL\", \"KFDX\":\"Cannon-AFB_NM\", \\\n",
        "\"KEWX\":\"Austin-San-Antonio_TX\", \"KEYX\":\"Edwards-AFB_CA\", \"KFCX\":\"Roanoke_VA\", \"KFDR\":\"Altus-AFB_OK\", \\\n",
        "\"KFFC\":\"Atlanta_GA\", \"KFSD\":\"Sioux-Falls_SD\", \"KFSX\":\"Flagstaff_AZ\",\"KFTG\":\"Denver_CO\", \\\n",
        "\"KFWS\":\"Dallas-Ft.Worth_TX\", \"KGRK\":\"Fort-Hood_TX\", \\\n",
        "\"KGGW\":\"Glasgow_MT\", \"KGJX\":\"Grand-Junction_Co\", \"KGLD\":\"Goodland_KS\", \"KGRB\":\"Green-Bay_WI\", \\\n",
        "\"KGRR\":\"Grand-Rapids_MI\", \"KGSP\":\"Greer_SC\", \"KGWX\":\"Columbus-AFB,_ MS\", \"KGYX\":\"Portland-Maine\", \\\n",
        "\"KHDX\":\"Holloman-AFB_NM\", \"KHTX\":\"Huntsville_AL\",  \\\n",
        "\"KHGX\":\"Houston-Galveston-TX\", \"KHNX\":\"San-Joaquin-Valley_CA\", \"KHPX\":\"Fort-Campbell_KY\", \\\n",
        "\"KICT\":\"Wichita_KS\", \"KICX\":\"Cedar-City_UT\", \"KILN\":\"Cincinnati_OH\", \"KILX\":\"Lincoln_IL\", \\\n",
        "\"KIND\":\"Indianapolis_IN\", \"KJAX\":\"Jacksonville-FL\", \\\n",
        "\"KINX\":\"Tulsa_OK\", \"KIWA\":\"Phoenix_AZ\", \"KIWX\":\"Fort-Wayne_IN\", \"KJAN\":\"Jackson_MS\", \\\n",
        "\"KJGX\":\"Robins-AFB_GA\", \"KJKL\":\"Jackson_KY\", \"KLBB\":\"Lubbock_TX\", \"KLCH\":\"Lake-Charles-LA\", \\\n",
        "\"KLIX\":\"New-Orleans-LA\", \"KLTX\":\"Wilmington-NC\", \\\n",
        "\"KLNX\":\"North-Platte_NE\", \"KLOT\":\"Chicago_IL\", \"KLRX\":\"Elko_NV\", \"KLSX\":\"Saint-Louis_ MO\", \\\n",
        "\"KLVX\":\"Louisville_KY\", \"KLWX\":\"Sterling-VA\", \"KLZK\":\"Little-Rock_AR\", \"KMAF\":\"Midland-Odessa_TX\", \\\n",
        "\"KMAX\":\"Medford_OR\", \"KMOB\":\"Mobile-AL\", \\\n",
        "\"KMBX\":\"Minot-AFB_ND\", \"KMHX\":\"Morehead-City-NC\", \"KMKX\":\"Milwaukee_WI\", \"KMLB\":\"Melbourne-FL\", \\\n",
        "\"KMPX\":\"Minneapolis-St.Paul_MN\", \"KMQT\":\"Marquette_MI\", \"KMRX\":\"Knoxville-Tri-Cities_TN\", \\\n",
        "\"KMSX\":\"Missoula_MT\", \"KNKX\":\"San-Diego-CA\", \\\n",
        "\"KMTX\":\"Salt-Lake-City_UT\", \"KMUX\":\"San-Francisco_CA\", \"KMVX\":\"Grand-Forks_ND\", \"KMXX\":\"Maxwell-AFB_AL\", \\\n",
        "\"KNQA\":\"Memphis_TN\", \"KOAX\":\"Omaha_NE\", \"KOHX\":\"Nashville_TN\", \"KOKX\":\"New-York-City-NY\", \\\n",
        "\"KOTX\":\"Spokane_WA\", \"KPAH\":\"Paducah_KY\", \\\n",
        "\"KPBZ\":\"Pittsburgh_PA\", \"KPDT\":\"Pendleton_OR\", \"KPOE\":\"Fort-Polk_LA\", \"KPUX\":\"Pueblo_CO\", \\\n",
        "\"KRAX\":\"Raleigh-Durham_NC\", \"KRGX\":\"Reno-NV\", \"KSFX\":\"Pocatello-Idaho-Falls_ID\", \\\n",
        "\"KRIW\":\"Riverton_WY\", \"KRLX\":\"Charleston_WV\", \"KRMX\":\"Griffiss-AFB_NY\", \"KRTX\":\"Portland_OR\", \\\n",
        "\"KSGF\":\"Springfield_MO\", \"KSHV\":\"Shreveport_LA\", \"KSJT\":\"San-Angelo_TX\", \\\n",
        "\"KSOX\":\"Santa-Ana_Mountains_CA\", \"KTLX\":\"Oklahoma-City_OK\", \\\n",
        "\"KSRX\":\"Fort-Smith_AR\", \"KTBW\":\"Tampa-FL\", \"KTFX\":\"Great-Falls_MT\", \"KTLH\":\"Tallahassee-FL\", \\\n",
        "\"KTWX\":\"Topeka_KS\", \"KUDX\":\"Rapid-City_SD\", \"KUEX\":\"Hastings_NE\", \"KVAX\":\"Moody-AFB_GA\", \\\n",
        "\"KVBX\":\"Vandenberg-AFB_CA\", \"PABC\":\"Bethel_AK\", \\\n",
        "\"KVNX\":\"Vance-AFB_OK\", \"KVTX\":\"Los_Angeles_CA\", \"KYUX\":\"Yuma_AZ\", \"LPLA\":\"Lajes-AB_Azores\", \\\n",
        "\"PACG\":\"Sitka_AK\", \"PAEC\":\"Nome_AK\", \"PAHG\":\"Anchorage_AK\", \"PAIH\":\"Middleton-Island_AK\",\n",
        "\"PAKC\":\"King-Salmon_AK\", \"PHKM\":'Kamuela-Kohala-HI', \\\n",
        "\"PAPD\":\"Fairbanks_AK\", \"PGUA\":\"Anderson-AFB-Guam\", \"PHKI\":\"South-Kauai-HI\", \\\n",
        "\"PHKN\":\"Kamuela_HI\", \"PHMO\":\"Molokai-HI\", \"PHWA\":\"South-Shore-HI\", \"RKJK\":\"Kunsan-AB-Korea\", \\\n",
        "\"RKSG\":\"Camp-Humphreys-Korea\", \"RODN\":\"Kadena_Okinawa\", \"TJUA\":\"San-Juan-Puerto-Rico\", \\\n",
        "\"KLGX\":\"Langley-Hill_WA\", \"KCRI\":\"Norman-Westheimer-OK\",\"KOUN\":\"Norman-NSSL-OK\"}\n"
      ],
      "metadata": {
        "id": "oR1FsXquGCxv"
      },
      "execution_count": 19,
      "outputs": []
    },
    {
      "cell_type": "code",
      "source": [
        "My_radarname=dict_call_signs[My_callsign]\n",
        "print(\"My_radarname=\"+My_radarname)\n",
        "\n",
        "\n"
      ],
      "metadata": {
        "colab": {
          "base_uri": "https://localhost:8080/"
        },
        "id": "comVshBGGMit",
        "outputId": "ce14282d-3c4b-43d3-a514-f9b49ca853df"
      },
      "execution_count": 20,
      "outputs": [
        {
          "output_type": "stream",
          "name": "stdout",
          "text": [
            "My_radarname=Dodge-City_KS\n"
          ]
        }
      ]
    },
    {
      "cell_type": "code",
      "source": [
        "#xxxxxxxxxxxxxxxxxxxxxxxxxxxxxxxxxxxxxxxxxxxxxxxxxxxxxxxxxxxxxxxxxxxxxxxxxxxxxxxxxxxxxxxxxxxx\n",
        "#\n",
        "#NEX_file=meta_dir+'/NEXRAD_Data_LL_Data.csv'\n",
        "NEX_file='NEXRAD_Data_LL_Data.csv'\n",
        "\n",
        "\n",
        "#\n",
        "this_return_value = 0\n",
        "#\n",
        "# Check thisfile\n",
        "#\n",
        "valid_thisfile=OS.path.isfile(NEX_file)\n",
        "#\n",
        "if valid_thisfile:\n",
        "    print(dadash)\n",
        "    print(\"This file is VALID and EXISTS:: \"+NEX_file)\n",
        "    this_return_value = 1\n",
        "    print(dadash)\n",
        "    WARNING_INIT_ERROR=1\n",
        "    #\n",
        "else:\n",
        "    #\n",
        "    print(\"---CAUTION---\")\n",
        "    print(\"---The indicated file is INVALID! NEED TO CHECK THIS!: \"+NEX_file)\n",
        "    this_return_value = 0\n",
        "    WARNING_INIT_ERROR=0\n",
        "    #-----------------------------------------------------------\n",
        "    # End of if block\n",
        "    #-----------------------------------------------------------\n",
        "\n",
        "#xxxxxxxxxxxxxxxxxxxxxxxxxxxxxxxxxxxxxxxxxxxxxxxxxxxxxxxxxxxxxxxxxxxxxxxxxxxxxxxxxxxxxxxxxxxx\n",
        "\n",
        "#\n",
        "#nexrad_dataframe = PD.read_csv(CWD_PATH+'NEXRAD_Data.csv')\n",
        "#nexrad_dataframe = PD.read_csv(CWD_PATH+'NEXRAD_Data_LLW.csv')\n",
        "#xxxxxxxxxxxxxxxxxxxxxxxxxxxxxxxxxxxxxxxxxxxxxxxxxxxxxxxxxxxxxxxxxxxxxxxxxxxxxxxxxxxxxxxxxxxx\n",
        "try:\n",
        "    print(\"Reading NEXRAD csv data\")\n",
        "    nexrad_dataframe = PD.read_csv(NEX_file)\n",
        "    print(\"Data was read in\")\n",
        "except:\n",
        "    WARNING_INIT_ERROR=0\n",
        "#xxxxxxxxxxxxxxxxxxxxxxxxxxxxxxxxxxxxxxxxxxxxxxxxxxxxxxxxxxxxxxxxxxxxxxxxxxxxxxxxxxxxxxxxxxxx\n",
        "subst= nexrad_dataframe[nexrad_dataframe.STATION_ID == My_callsign]\n",
        "\n",
        "subst\n",
        "#subst.LAT\n",
        "#subst.LONG\n",
        "#subset\n",
        "#nexrad_dataframe(My_callsign)\n",
        "#xxxxxxxxxxxxxxxxxxxxxxxxxxxxxxxxxxxxxxxxxxxxxxxxxxxxxxxxxxxxxxxxxxxxxxxxxxxxxxxxxxxxxxxxxxxx\n",
        "\n"
      ],
      "metadata": {
        "colab": {
          "base_uri": "https://localhost:8080/",
          "height": 249
        },
        "id": "U6xqhNaDGR9N",
        "outputId": "2b034516-7aea-4e37-98b1-49c779e30c2e"
      },
      "execution_count": 23,
      "outputs": [
        {
          "output_type": "stream",
          "name": "stdout",
          "text": [
            "-----------------------------------------------------\n",
            "This file is VALID and EXISTS:: NEXRAD_Data_LL_Data.csv\n",
            "-----------------------------------------------------\n",
            "Reading NEXRAD csv data\n",
            "Data was read in\n"
          ]
        },
        {
          "output_type": "execute_result",
          "data": {
            "text/plain": [
              "     WBAN STATION_ID    STATION_NAME LATN/LONGW(deg,min,sec)  ELEV(ft)  \\\n",
              "37  13985       KDDC  Dodge City, KS        374539 / 0995808      2590   \n",
              "\n",
              "    TOWER_HEIGHT(m)  TROPICAL  COASTAL  INLAND  LAT_N(deg,min,sec)  \\\n",
              "37               20         0        0       1              374539   \n",
              "\n",
              "    LONG_W(deg,min,sec) STATION_CALLSIGN       LONG        LAT  \n",
              "37               995808             KDDC -99.968889  37.760833  "
            ],
            "text/html": [
              "\n",
              "  <div id=\"df-e6d2b642-adcc-4e8e-b460-5fefd71f99a7\">\n",
              "    <div class=\"colab-df-container\">\n",
              "      <div>\n",
              "<style scoped>\n",
              "    .dataframe tbody tr th:only-of-type {\n",
              "        vertical-align: middle;\n",
              "    }\n",
              "\n",
              "    .dataframe tbody tr th {\n",
              "        vertical-align: top;\n",
              "    }\n",
              "\n",
              "    .dataframe thead th {\n",
              "        text-align: right;\n",
              "    }\n",
              "</style>\n",
              "<table border=\"1\" class=\"dataframe\">\n",
              "  <thead>\n",
              "    <tr style=\"text-align: right;\">\n",
              "      <th></th>\n",
              "      <th>WBAN</th>\n",
              "      <th>STATION_ID</th>\n",
              "      <th>STATION_NAME</th>\n",
              "      <th>LATN/LONGW(deg,min,sec)</th>\n",
              "      <th>ELEV(ft)</th>\n",
              "      <th>TOWER_HEIGHT(m)</th>\n",
              "      <th>TROPICAL</th>\n",
              "      <th>COASTAL</th>\n",
              "      <th>INLAND</th>\n",
              "      <th>LAT_N(deg,min,sec)</th>\n",
              "      <th>LONG_W(deg,min,sec)</th>\n",
              "      <th>STATION_CALLSIGN</th>\n",
              "      <th>LONG</th>\n",
              "      <th>LAT</th>\n",
              "    </tr>\n",
              "  </thead>\n",
              "  <tbody>\n",
              "    <tr>\n",
              "      <th>37</th>\n",
              "      <td>13985</td>\n",
              "      <td>KDDC</td>\n",
              "      <td>Dodge City, KS</td>\n",
              "      <td>374539 / 0995808</td>\n",
              "      <td>2590</td>\n",
              "      <td>20</td>\n",
              "      <td>0</td>\n",
              "      <td>0</td>\n",
              "      <td>1</td>\n",
              "      <td>374539</td>\n",
              "      <td>995808</td>\n",
              "      <td>KDDC</td>\n",
              "      <td>-99.968889</td>\n",
              "      <td>37.760833</td>\n",
              "    </tr>\n",
              "  </tbody>\n",
              "</table>\n",
              "</div>\n",
              "      <button class=\"colab-df-convert\" onclick=\"convertToInteractive('df-e6d2b642-adcc-4e8e-b460-5fefd71f99a7')\"\n",
              "              title=\"Convert this dataframe to an interactive table.\"\n",
              "              style=\"display:none;\">\n",
              "        \n",
              "  <svg xmlns=\"http://www.w3.org/2000/svg\" height=\"24px\"viewBox=\"0 0 24 24\"\n",
              "       width=\"24px\">\n",
              "    <path d=\"M0 0h24v24H0V0z\" fill=\"none\"/>\n",
              "    <path d=\"M18.56 5.44l.94 2.06.94-2.06 2.06-.94-2.06-.94-.94-2.06-.94 2.06-2.06.94zm-11 1L8.5 8.5l.94-2.06 2.06-.94-2.06-.94L8.5 2.5l-.94 2.06-2.06.94zm10 10l.94 2.06.94-2.06 2.06-.94-2.06-.94-.94-2.06-.94 2.06-2.06.94z\"/><path d=\"M17.41 7.96l-1.37-1.37c-.4-.4-.92-.59-1.43-.59-.52 0-1.04.2-1.43.59L10.3 9.45l-7.72 7.72c-.78.78-.78 2.05 0 2.83L4 21.41c.39.39.9.59 1.41.59.51 0 1.02-.2 1.41-.59l7.78-7.78 2.81-2.81c.8-.78.8-2.07 0-2.86zM5.41 20L4 18.59l7.72-7.72 1.47 1.35L5.41 20z\"/>\n",
              "  </svg>\n",
              "      </button>\n",
              "      \n",
              "  <style>\n",
              "    .colab-df-container {\n",
              "      display:flex;\n",
              "      flex-wrap:wrap;\n",
              "      gap: 12px;\n",
              "    }\n",
              "\n",
              "    .colab-df-convert {\n",
              "      background-color: #E8F0FE;\n",
              "      border: none;\n",
              "      border-radius: 50%;\n",
              "      cursor: pointer;\n",
              "      display: none;\n",
              "      fill: #1967D2;\n",
              "      height: 32px;\n",
              "      padding: 0 0 0 0;\n",
              "      width: 32px;\n",
              "    }\n",
              "\n",
              "    .colab-df-convert:hover {\n",
              "      background-color: #E2EBFA;\n",
              "      box-shadow: 0px 1px 2px rgba(60, 64, 67, 0.3), 0px 1px 3px 1px rgba(60, 64, 67, 0.15);\n",
              "      fill: #174EA6;\n",
              "    }\n",
              "\n",
              "    [theme=dark] .colab-df-convert {\n",
              "      background-color: #3B4455;\n",
              "      fill: #D2E3FC;\n",
              "    }\n",
              "\n",
              "    [theme=dark] .colab-df-convert:hover {\n",
              "      background-color: #434B5C;\n",
              "      box-shadow: 0px 1px 3px 1px rgba(0, 0, 0, 0.15);\n",
              "      filter: drop-shadow(0px 1px 2px rgba(0, 0, 0, 0.3));\n",
              "      fill: #FFFFFF;\n",
              "    }\n",
              "  </style>\n",
              "\n",
              "      <script>\n",
              "        const buttonEl =\n",
              "          document.querySelector('#df-e6d2b642-adcc-4e8e-b460-5fefd71f99a7 button.colab-df-convert');\n",
              "        buttonEl.style.display =\n",
              "          google.colab.kernel.accessAllowed ? 'block' : 'none';\n",
              "\n",
              "        async function convertToInteractive(key) {\n",
              "          const element = document.querySelector('#df-e6d2b642-adcc-4e8e-b460-5fefd71f99a7');\n",
              "          const dataTable =\n",
              "            await google.colab.kernel.invokeFunction('convertToInteractive',\n",
              "                                                     [key], {});\n",
              "          if (!dataTable) return;\n",
              "\n",
              "          const docLinkHtml = 'Like what you see? Visit the ' +\n",
              "            '<a target=\"_blank\" href=https://colab.research.google.com/notebooks/data_table.ipynb>data table notebook</a>'\n",
              "            + ' to learn more about interactive tables.';\n",
              "          element.innerHTML = '';\n",
              "          dataTable['output_type'] = 'display_data';\n",
              "          await google.colab.output.renderOutput(dataTable, element);\n",
              "          const docLink = document.createElement('div');\n",
              "          docLink.innerHTML = docLinkHtml;\n",
              "          element.appendChild(docLink);\n",
              "        }\n",
              "      </script>\n",
              "    </div>\n",
              "  </div>\n",
              "  "
            ]
          },
          "metadata": {},
          "execution_count": 23
        }
      ]
    },
    {
      "cell_type": "code",
      "source": [
        "\n",
        "sp='==>'\n",
        "\n",
        "print (DADASHES)\n",
        "\n",
        "#\n",
        "#\n",
        "#--------------------------------------\n",
        "# nexrad_dataframe - > TABS:\n",
        "# ----> WBAN\n",
        "# ----> STATION_ID\n",
        "# ----> STATION_NAME\n",
        "# ----> LATN/LONGW(deg,min,sec)\n",
        "# ----> ELEV(ft)\n",
        "# ----> TOWER_HEIGHT(m)\n",
        "# ----> TROPICAL\n",
        "# ----> COASTAL\n",
        "# ----> INLAND\n",
        "# ----> LAT_N(deg,min,sec)\n",
        "# ----> LONG_W(deg,min,sec)\n",
        "#--------------------------------------\n",
        "# ----> LATDfloat\n",
        "# ----> LONGfloat\n",
        "# ----> STATION_NAME\n",
        "# ----> LAT\n",
        "# ----> LONG\n",
        "#--------------------------------------\n",
        "#\n",
        "#"
      ],
      "metadata": {
        "colab": {
          "base_uri": "https://localhost:8080/"
        },
        "id": "Oo0L118TGWat",
        "outputId": "05b4fd05-3946-468a-ba31-bd32b3d78b7f"
      },
      "execution_count": 25,
      "outputs": [
        {
          "output_type": "stream",
          "name": "stdout",
          "text": [
            "-----------------------------------------------------\n"
          ]
        }
      ]
    },
    {
      "cell_type": "code",
      "source": [
        "try:\n",
        "    nexrad_dataframe.set_index('STATION_ID')\n",
        "except:\n",
        "    WARNING_INIT_ERROR=0\n",
        "#xxxxxxxxxxxxxxxxxxxxxxxxxxxxxxxxxxxxxxxxxxxxxxxxxxxxxxxxxxxxxxxxxxxxxxxxxxxxxxxxxxxxxxxxxxxx\n",
        "\n",
        "print( DADASHES)\n",
        "\n",
        "sp='==>'\n",
        "\n",
        "print( DADASHES)\n",
        "print( DADASHES)\n",
        "\n",
        "#\n",
        "# Here I will create a dataframe that contains the properly computed lats and longs\n",
        "# Indexed by trhe RADAR site callsigns\n",
        "#\n",
        "LEN_ALL_call_signs=len(ALL_call_signs)\n",
        "\n",
        "print( dadash)\n",
        "print( dadash)\n",
        "\n"
      ],
      "metadata": {
        "colab": {
          "base_uri": "https://localhost:8080/"
        },
        "id": "EufokzN0HfCl",
        "outputId": "b04b382f-1a3b-4730-cee6-480e73eed4c5"
      },
      "execution_count": 26,
      "outputs": [
        {
          "output_type": "stream",
          "name": "stdout",
          "text": [
            "-----------------------------------------------------\n",
            "-----------------------------------------------------\n",
            "-----------------------------------------------------\n",
            "-----------------------------------------------------\n",
            "-----------------------------------------------------\n"
          ]
        }
      ]
    },
    {
      "cell_type": "code",
      "source": [
        "\n",
        "print( DAEQUALS)\n",
        "print( \"The nexrad_dataframe\")\n",
        "print( DAEQUALS)\n",
        "#\n",
        "try:\n",
        "    print(nexrad_dataframe)\n",
        "except:\n",
        "    WARNING_INIT_ERROR=0\n",
        "#============================================================\n",
        "\n",
        "print( DAEQUALS)\n",
        "print( DAEQUALS)\n",
        "#xxxxxxxxxxxxxxxxxxxxxxxxxxxxxxxxxxxxxxxxxxxxxxxxxxxxxxxxxxxxxxxxxxxxxxxxxxxxxxxxxxxxxxxxxxxx\n",
        "\n"
      ],
      "metadata": {
        "colab": {
          "base_uri": "https://localhost:8080/"
        },
        "id": "qbZmB2EyHk7q",
        "outputId": "acc8b6c5-b237-4d52-9871-f66e932e0353"
      },
      "execution_count": 27,
      "outputs": [
        {
          "output_type": "stream",
          "name": "stdout",
          "text": [
            "==--==--==--==--==--==--==--==--==--==--==--==--==--\n",
            "The nexrad_dataframe\n",
            "==--==--==--==--==--==--==--==--==--==--==--==--==--\n",
            "      WBAN STATION_ID        STATION_NAME LATN/LONGW(deg,min,sec)  ELEV(ft)  \\\n",
            "0    14929       KABR        Aberdeen, SD        452721 / 0982447      1302   \n",
            "1    54766       KENX          Albany, NY        423511 / 0740350      1826   \n",
            "2     3019       KABX     Albuquerque, NM        350859 / 1064926      5870   \n",
            "3     3981       KFDR       Altus AFB, OK        342144 / 0985835      1267   \n",
            "4    23047       KAMA        Amarillo, TX        351400 / 1014233      3587   \n",
            "..     ...        ...                 ...                     ...       ...   \n",
            "154  93234       KVBX  Vandenberg AFB, CA        345017 / 1202349      1223   \n",
            "155   3928       KICT         Wichita, KS        373917 / 0972634      1335   \n",
            "156  93774       KLTX      Wilmington, NC        335922 / 0782544        64   \n",
            "157  53116       KYUX            Yuma, AZ        322943 / 1143924       174   \n",
            "158  99099       KLGX     Langley-Hill_WA        471169 / 1241066       250   \n",
            "\n",
            "     TOWER_HEIGHT(m)  TROPICAL  COASTAL  INLAND  LAT_N(deg,min,sec)  \\\n",
            "0                 20         0        0       1              452721   \n",
            "1                 20         0        0       1              423511   \n",
            "2                 20         0        0       1              350859   \n",
            "3                 10         0        0       1              342144   \n",
            "4                 20         0        0       1              351400   \n",
            "..               ...       ...      ...     ...                 ...   \n",
            "154               20         0        1       0              345017   \n",
            "155               10         0        0       1              373917   \n",
            "156               20         0        0       1              335922   \n",
            "157               10         0        0       1              322943   \n",
            "158               20         0        1       0              471169   \n",
            "\n",
            "     LONG_W(deg,min,sec) STATION_CALLSIGN        LONG        LAT  \n",
            "0                 982447             KABR  -98.413056  45.455833  \n",
            "1                 740350             KENX  -74.063889  42.586389  \n",
            "2                1064926             KABX -106.823889  35.149722  \n",
            "3                 985835             KFDR  -98.976389  34.362222  \n",
            "4                1014233             KAMA -101.709167  35.233333  \n",
            "..                   ...              ...         ...        ...  \n",
            "154              1202349             KVBX -120.396944  34.838056  \n",
            "155               972634             KICT  -97.442778  37.654722  \n",
            "156               782544             KLTX  -78.428889  33.989444  \n",
            "157              1143924             KYUX -114.656667  32.495278  \n",
            "158              1241066             KLGX -124.106600  47.116900  \n",
            "\n",
            "[159 rows x 14 columns]\n",
            "==--==--==--==--==--==--==--==--==--==--==--==--==--\n",
            "==--==--==--==--==--==--==--==--==--==--==--==--==--\n"
          ]
        }
      ]
    },
    {
      "cell_type": "code",
      "source": [
        "\n",
        "sp='==>'\n",
        "\n",
        "print (DADASHES)\n"
      ],
      "metadata": {
        "colab": {
          "base_uri": "https://localhost:8080/"
        },
        "id": "e65WczwBHoaL",
        "outputId": "9644dbe5-1647-47dd-a1bb-be0557b252d9"
      },
      "execution_count": 28,
      "outputs": [
        {
          "output_type": "stream",
          "name": "stdout",
          "text": [
            "-----------------------------------------------------\n"
          ]
        }
      ]
    },
    {
      "cell_type": "code",
      "source": [
        "\n",
        "#\n",
        "#\n",
        "#--------------------------------------\n",
        "# nexrad_dataframe - > TABS:\n",
        "# ----> WBAN\n",
        "# ----> STATION_ID\n",
        "# ----> STATION_NAME\n",
        "# ----> LATN/LONGW(deg,min,sec)\n",
        "# ----> ELEV(ft)\n",
        "# ----> TOWER_HEIGHT(m)\n",
        "# ----> TROPICAL\n",
        "# ----> COASTAL\n",
        "# ----> INLAND\n",
        "# ----> LAT_N(deg,min,sec)\n",
        "# ----> LONG_W(deg,min,sec)\n",
        "#--------------------------------------\n",
        "# ----> LATDfloat\n",
        "# ----> LONGfloat\n",
        "# ----> STATION_NAME\n",
        "# ----> LAT\n",
        "# ----> LONG\n",
        "#--------------------------------------\n",
        "#\n",
        "#\n",
        "\n",
        "try:\n",
        "    nexrad_dataframe.set_index('STATION_ID')\n",
        "except:\n",
        "    WARNING_INIT_ERROR=0\n",
        "#xxxxxxxxxxxxxxxxxxxxxxxxxxxxxxxxxxxxxxxxxxxxxxxxxxxxxxxxxxxxxxxxxxxxxxxxxxxxxxxxxxxxxxxxxxxx\n",
        "\n"
      ],
      "metadata": {
        "id": "w2XVA0o8Hsdt"
      },
      "execution_count": 29,
      "outputs": []
    },
    {
      "cell_type": "code",
      "source": [
        "\n",
        "print( DADASHES)\n",
        "\n",
        "sp='==>'\n",
        "\n",
        "print( DADASHES)\n",
        "print( DADASHES)\n",
        "\n",
        "#\n",
        "# Here I will create a dataframe that contains the properly computed lats and longs\n",
        "# Indexed by trhe RADAR site callsigns\n",
        "#\n",
        "LEN_ALL_call_signs=len(ALL_call_signs)\n",
        "\n",
        "print( dadash)\n",
        "print( dadash)\n",
        "\n",
        "\n",
        "#------------------------------------------------------------\n",
        "#\n",
        "#------------------------------------------------------------\n",
        "#\n",
        "#------------------------------------\n",
        "#============================================================\n",
        "\n",
        "print( DAEQUALS)\n",
        "print( \"The nexrad_dataframe\")\n",
        "print( DAEQUALS)\n",
        "#\n",
        "try:\n",
        "    print(nexrad_dataframe)\n",
        "except:\n",
        "    WARNING_INIT_ERROR=0\n",
        "#============================================================\n",
        "\n",
        "print( DAEQUALS)\n",
        "print( DAEQUALS)\n",
        "#xxxxxxxxxxxxxxxxxxxxxxxxxxxxxxxxxxxxxxxxxxxxxxxxxxxxxxxxxxxxxxxxxxxxxxxxxxxxxxxxxxxxxxxxxxxx\n",
        "\n",
        "\n"
      ],
      "metadata": {
        "colab": {
          "base_uri": "https://localhost:8080/"
        },
        "id": "UBQlfouTHxvb",
        "outputId": "c56a1cf8-f331-42c6-b798-2d84dec3f1ae"
      },
      "execution_count": 30,
      "outputs": [
        {
          "output_type": "stream",
          "name": "stdout",
          "text": [
            "-----------------------------------------------------\n",
            "-----------------------------------------------------\n",
            "-----------------------------------------------------\n",
            "-----------------------------------------------------\n",
            "-----------------------------------------------------\n",
            "==--==--==--==--==--==--==--==--==--==--==--==--==--\n",
            "The nexrad_dataframe\n",
            "==--==--==--==--==--==--==--==--==--==--==--==--==--\n",
            "      WBAN STATION_ID        STATION_NAME LATN/LONGW(deg,min,sec)  ELEV(ft)  \\\n",
            "0    14929       KABR        Aberdeen, SD        452721 / 0982447      1302   \n",
            "1    54766       KENX          Albany, NY        423511 / 0740350      1826   \n",
            "2     3019       KABX     Albuquerque, NM        350859 / 1064926      5870   \n",
            "3     3981       KFDR       Altus AFB, OK        342144 / 0985835      1267   \n",
            "4    23047       KAMA        Amarillo, TX        351400 / 1014233      3587   \n",
            "..     ...        ...                 ...                     ...       ...   \n",
            "154  93234       KVBX  Vandenberg AFB, CA        345017 / 1202349      1223   \n",
            "155   3928       KICT         Wichita, KS        373917 / 0972634      1335   \n",
            "156  93774       KLTX      Wilmington, NC        335922 / 0782544        64   \n",
            "157  53116       KYUX            Yuma, AZ        322943 / 1143924       174   \n",
            "158  99099       KLGX     Langley-Hill_WA        471169 / 1241066       250   \n",
            "\n",
            "     TOWER_HEIGHT(m)  TROPICAL  COASTAL  INLAND  LAT_N(deg,min,sec)  \\\n",
            "0                 20         0        0       1              452721   \n",
            "1                 20         0        0       1              423511   \n",
            "2                 20         0        0       1              350859   \n",
            "3                 10         0        0       1              342144   \n",
            "4                 20         0        0       1              351400   \n",
            "..               ...       ...      ...     ...                 ...   \n",
            "154               20         0        1       0              345017   \n",
            "155               10         0        0       1              373917   \n",
            "156               20         0        0       1              335922   \n",
            "157               10         0        0       1              322943   \n",
            "158               20         0        1       0              471169   \n",
            "\n",
            "     LONG_W(deg,min,sec) STATION_CALLSIGN        LONG        LAT  \n",
            "0                 982447             KABR  -98.413056  45.455833  \n",
            "1                 740350             KENX  -74.063889  42.586389  \n",
            "2                1064926             KABX -106.823889  35.149722  \n",
            "3                 985835             KFDR  -98.976389  34.362222  \n",
            "4                1014233             KAMA -101.709167  35.233333  \n",
            "..                   ...              ...         ...        ...  \n",
            "154              1202349             KVBX -120.396944  34.838056  \n",
            "155               972634             KICT  -97.442778  37.654722  \n",
            "156               782544             KLTX  -78.428889  33.989444  \n",
            "157              1143924             KYUX -114.656667  32.495278  \n",
            "158              1241066             KLGX -124.106600  47.116900  \n",
            "\n",
            "[159 rows x 14 columns]\n",
            "==--==--==--==--==--==--==--==--==--==--==--==--==--\n",
            "==--==--==--==--==--==--==--==--==--==--==--==--==--\n"
          ]
        }
      ]
    },
    {
      "cell_type": "code",
      "source": [
        "\n",
        "#\n",
        "# Here I will create a dataframe that contains the properly computed lats and longs\n",
        "# Indexed by trhe RADAR site callsigns\n",
        "#\n",
        "LEN_ALL_call_signs=len(ALL_call_signs)\n",
        "\n",
        "print( dadash)\n",
        "print( dadash)\n",
        "\n"
      ],
      "metadata": {
        "colab": {
          "base_uri": "https://localhost:8080/"
        },
        "id": "fGCMEcIcH66N",
        "outputId": "31abcc63-2d98-42f2-cdd1-8cfced2a7ef0"
      },
      "execution_count": 31,
      "outputs": [
        {
          "output_type": "stream",
          "name": "stdout",
          "text": [
            "-----------------------------------------------------\n",
            "-----------------------------------------------------\n"
          ]
        }
      ]
    },
    {
      "cell_type": "code",
      "source": [
        "\n",
        "print( DAEQUALS)\n",
        "print( \"The nexrad_dataframe\")\n",
        "print( DAEQUALS)\n",
        "#\n",
        "try:\n",
        "    print(nexrad_dataframe)\n",
        "except:\n",
        "    WARNING_INIT_ERROR=0\n",
        "#============================================================\n",
        "\n",
        "print( DAEQUALS)\n",
        "print( DAEQUALS)\n",
        "IDX=subst.index.values\n",
        "\n",
        "#print(str(subst.index))\n",
        "#print(str(subst.at[48,'LAT']))\n",
        "#print(str(subst.at[48,'LONG']))\n",
        "\n",
        "print(str(subst.at[IDX[0],'LAT']))\n",
        "print(str(subst.at[IDX[0],'LONG']))\n",
        "\n",
        "\n",
        "RadarLatitude_obj = subst.LAT#\n",
        "\n",
        "RadarLongitude_obj= subst.LONG#\n",
        "\n",
        "radarname=subst.STATION_NAME\n",
        "\n",
        "RadarLatitude = subst.at[IDX[0],'LAT']\n",
        "\n",
        "RadarLongitude= subst.at[IDX[0],'LONG']\n",
        "\n",
        "\n",
        "print( DAEQUALS)\n"
      ],
      "metadata": {
        "colab": {
          "base_uri": "https://localhost:8080/"
        },
        "id": "saKtGbplIKp7",
        "outputId": "846e7bae-f605-40e7-e32a-fe7d8e9e0651"
      },
      "execution_count": 32,
      "outputs": [
        {
          "output_type": "stream",
          "name": "stdout",
          "text": [
            "==--==--==--==--==--==--==--==--==--==--==--==--==--\n",
            "The nexrad_dataframe\n",
            "==--==--==--==--==--==--==--==--==--==--==--==--==--\n",
            "      WBAN STATION_ID        STATION_NAME LATN/LONGW(deg,min,sec)  ELEV(ft)  \\\n",
            "0    14929       KABR        Aberdeen, SD        452721 / 0982447      1302   \n",
            "1    54766       KENX          Albany, NY        423511 / 0740350      1826   \n",
            "2     3019       KABX     Albuquerque, NM        350859 / 1064926      5870   \n",
            "3     3981       KFDR       Altus AFB, OK        342144 / 0985835      1267   \n",
            "4    23047       KAMA        Amarillo, TX        351400 / 1014233      3587   \n",
            "..     ...        ...                 ...                     ...       ...   \n",
            "154  93234       KVBX  Vandenberg AFB, CA        345017 / 1202349      1223   \n",
            "155   3928       KICT         Wichita, KS        373917 / 0972634      1335   \n",
            "156  93774       KLTX      Wilmington, NC        335922 / 0782544        64   \n",
            "157  53116       KYUX            Yuma, AZ        322943 / 1143924       174   \n",
            "158  99099       KLGX     Langley-Hill_WA        471169 / 1241066       250   \n",
            "\n",
            "     TOWER_HEIGHT(m)  TROPICAL  COASTAL  INLAND  LAT_N(deg,min,sec)  \\\n",
            "0                 20         0        0       1              452721   \n",
            "1                 20         0        0       1              423511   \n",
            "2                 20         0        0       1              350859   \n",
            "3                 10         0        0       1              342144   \n",
            "4                 20         0        0       1              351400   \n",
            "..               ...       ...      ...     ...                 ...   \n",
            "154               20         0        1       0              345017   \n",
            "155               10         0        0       1              373917   \n",
            "156               20         0        0       1              335922   \n",
            "157               10         0        0       1              322943   \n",
            "158               20         0        1       0              471169   \n",
            "\n",
            "     LONG_W(deg,min,sec) STATION_CALLSIGN        LONG        LAT  \n",
            "0                 982447             KABR  -98.413056  45.455833  \n",
            "1                 740350             KENX  -74.063889  42.586389  \n",
            "2                1064926             KABX -106.823889  35.149722  \n",
            "3                 985835             KFDR  -98.976389  34.362222  \n",
            "4                1014233             KAMA -101.709167  35.233333  \n",
            "..                   ...              ...         ...        ...  \n",
            "154              1202349             KVBX -120.396944  34.838056  \n",
            "155               972634             KICT  -97.442778  37.654722  \n",
            "156               782544             KLTX  -78.428889  33.989444  \n",
            "157              1143924             KYUX -114.656667  32.495278  \n",
            "158              1241066             KLGX -124.106600  47.116900  \n",
            "\n",
            "[159 rows x 14 columns]\n",
            "==--==--==--==--==--==--==--==--==--==--==--==--==--\n",
            "==--==--==--==--==--==--==--==--==--==--==--==--==--\n",
            "37.7608333333\n",
            "-99.9688888889\n",
            "==--==--==--==--==--==--==--==--==--==--==--==--==--\n"
          ]
        }
      ]
    },
    {
      "cell_type": "code",
      "source": [
        "\n",
        "print('RadarLatitude  = '+str(RadarLatitude))\n",
        "print('RadarLongitude = '+str(RadarLongitude))\n",
        "print('radarname      = '+radarname)\n",
        "print('localname      = '+My_radarname)\n",
        "PlaceName = dict_call_signs[CALL_SIGN]\n",
        "PlaceName\n",
        "#CALL_SIGN=\"PHMO\"\n",
        "#data_dir='/u/curr/etc/dynamic/obs_data/met/cqc/radar/'+CALL_SIGN\n",
        "\n",
        "#data_dir='/satdat/curr/m4b/radar/nexrad/'+CALL_SIGN+'/'\n",
        "data_dir='/import/frb_archive/pmccrone/KDDC_2019/'\n",
        "\n"
      ],
      "metadata": {
        "colab": {
          "base_uri": "https://localhost:8080/"
        },
        "id": "HEx3odyiIN1a",
        "outputId": "218f3fb9-4ca8-4a55-c198-fbcaec4fee2e"
      },
      "execution_count": 33,
      "outputs": [
        {
          "output_type": "stream",
          "name": "stdout",
          "text": [
            "RadarLatitude  = 37.7608333333\n",
            "RadarLongitude = -99.9688888889\n",
            "37    radarname      = Dodge City, KS\n",
            "Name: STATION_NAME, dtype: object\n",
            "localname      = Dodge-City_KS\n"
          ]
        }
      ]
    },
    {
      "cell_type": "code",
      "source": [
        "\n",
        "list_of_files= []\n",
        "list_of_files=os.listdir(data_dir)\n",
        "list_of_files.sort()\n",
        "derivedatafrom =list_of_files[-1]\n",
        "#derivedatafrom =list_of_files[15]\n",
        "\n",
        "#derivedatafrom ='20161223135600.compress.raw'\n",
        "#\n",
        "#\n",
        "filename = data_dir+derivedatafrom\n",
        "#filename\n",
        "print('filename is '+filename)\n"
      ],
      "metadata": {
        "colab": {
          "base_uri": "https://localhost:8080/",
          "height": 235
        },
        "id": "pmGn9AE1IZPb",
        "outputId": "957f5a9c-8eb5-4bd4-b2b7-d1609f31584b"
      },
      "execution_count": 34,
      "outputs": [
        {
          "output_type": "error",
          "ename": "FileNotFoundError",
          "evalue": "ignored",
          "traceback": [
            "\u001b[0;31m---------------------------------------------------------------------------\u001b[0m",
            "\u001b[0;31mFileNotFoundError\u001b[0m                         Traceback (most recent call last)",
            "\u001b[0;32m<ipython-input-34-4ce4ee813789>\u001b[0m in \u001b[0;36m<module>\u001b[0;34m\u001b[0m\n\u001b[1;32m      1\u001b[0m \u001b[0mlist_of_files\u001b[0m\u001b[0;34m=\u001b[0m \u001b[0;34m[\u001b[0m\u001b[0;34m]\u001b[0m\u001b[0;34m\u001b[0m\u001b[0;34m\u001b[0m\u001b[0m\n\u001b[0;32m----> 2\u001b[0;31m \u001b[0mlist_of_files\u001b[0m\u001b[0;34m=\u001b[0m\u001b[0mos\u001b[0m\u001b[0;34m.\u001b[0m\u001b[0mlistdir\u001b[0m\u001b[0;34m(\u001b[0m\u001b[0mdata_dir\u001b[0m\u001b[0;34m)\u001b[0m\u001b[0;34m\u001b[0m\u001b[0;34m\u001b[0m\u001b[0m\n\u001b[0m\u001b[1;32m      3\u001b[0m \u001b[0mlist_of_files\u001b[0m\u001b[0;34m.\u001b[0m\u001b[0msort\u001b[0m\u001b[0;34m(\u001b[0m\u001b[0;34m)\u001b[0m\u001b[0;34m\u001b[0m\u001b[0;34m\u001b[0m\u001b[0m\n\u001b[1;32m      4\u001b[0m \u001b[0mderivedatafrom\u001b[0m \u001b[0;34m=\u001b[0m\u001b[0mlist_of_files\u001b[0m\u001b[0;34m[\u001b[0m\u001b[0;34m-\u001b[0m\u001b[0;36m1\u001b[0m\u001b[0;34m]\u001b[0m\u001b[0;34m\u001b[0m\u001b[0;34m\u001b[0m\u001b[0m\n\u001b[1;32m      5\u001b[0m \u001b[0;31m#derivedatafrom =list_of_files[15]\u001b[0m\u001b[0;34m\u001b[0m\u001b[0;34m\u001b[0m\u001b[0;34m\u001b[0m\u001b[0m\n",
            "\u001b[0;31mFileNotFoundError\u001b[0m: [Errno 2] No such file or directory: '/import/frb_archive/pmccrone/KDDC_2019/'"
          ]
        }
      ]
    },
    {
      "cell_type": "code",
      "source": [],
      "metadata": {
        "id": "iXDbKrqDIi4c"
      },
      "execution_count": null,
      "outputs": []
    }
  ]
}